{
 "cells": [
  {
   "cell_type": "code",
   "execution_count": 1,
   "metadata": {},
   "outputs": [],
   "source": [
    "# 导入库\n",
    "import numpy as np\n",
    "import pandas as pd\n",
    "import seaborn as sns\n",
    "import matplotlib.pyplot as plt\n",
    "%matplotlib inline\n",
    "\n",
    "from sklearn.linear_model import LogisticRegression\n",
    "from sklearn.model_selection import train_test_split, cross_val_score\n",
    "from sklearn.preprocessing import StandardScaler\n",
    "from sklearn.metrics import classification_report\n",
    "import sklearn.metrics as metrics"
   ]
  },
  {
   "cell_type": "code",
   "execution_count": 2,
   "metadata": {},
   "outputs": [],
   "source": [
    "# 忽略报错\n",
    "import warnings\n",
    "warnings.filterwarnings(\"ignore\")\n",
    "\n",
    "# 中文\n",
    "plt.rcParams['font.family'] = ['Arial Unicode MS'] "
   ]
  },
  {
   "cell_type": "markdown",
   "metadata": {},
   "source": [
    "# 1. 数据概况"
   ]
  },
  {
   "cell_type": "code",
   "execution_count": 3,
   "metadata": {},
   "outputs": [],
   "source": [
    "# 导入数据\n",
    "pdd = pd.read_csv('拼多多优惠券数据.csv')"
   ]
  },
  {
   "cell_type": "code",
   "execution_count": 4,
   "metadata": {},
   "outputs": [
    {
     "data": {
      "text/html": [
       "<div>\n",
       "<style scoped>\n",
       "    .dataframe tbody tr th:only-of-type {\n",
       "        vertical-align: middle;\n",
       "    }\n",
       "\n",
       "    .dataframe tbody tr th {\n",
       "        vertical-align: top;\n",
       "    }\n",
       "\n",
       "    .dataframe thead th {\n",
       "        text-align: right;\n",
       "    }\n",
       "</style>\n",
       "<table border=\"1\" class=\"dataframe\">\n",
       "  <thead>\n",
       "    <tr style=\"text-align: right;\">\n",
       "      <th></th>\n",
       "      <th>ID</th>\n",
       "      <th>age</th>\n",
       "      <th>job</th>\n",
       "      <th>marital</th>\n",
       "      <th>default</th>\n",
       "      <th>returned</th>\n",
       "      <th>loan</th>\n",
       "      <th>coupon_used_in_last6_month</th>\n",
       "      <th>coupon_used_in_last_month</th>\n",
       "      <th>coupon_ind</th>\n",
       "    </tr>\n",
       "  </thead>\n",
       "  <tbody>\n",
       "    <tr>\n",
       "      <th>0</th>\n",
       "      <td>1</td>\n",
       "      <td>43</td>\n",
       "      <td>management</td>\n",
       "      <td>married</td>\n",
       "      <td>no</td>\n",
       "      <td>yes</td>\n",
       "      <td>no</td>\n",
       "      <td>2</td>\n",
       "      <td>0</td>\n",
       "      <td>0</td>\n",
       "    </tr>\n",
       "    <tr>\n",
       "      <th>1</th>\n",
       "      <td>2</td>\n",
       "      <td>42</td>\n",
       "      <td>technician</td>\n",
       "      <td>divorced</td>\n",
       "      <td>no</td>\n",
       "      <td>yes</td>\n",
       "      <td>no</td>\n",
       "      <td>1</td>\n",
       "      <td>1</td>\n",
       "      <td>0</td>\n",
       "    </tr>\n",
       "    <tr>\n",
       "      <th>2</th>\n",
       "      <td>3</td>\n",
       "      <td>47</td>\n",
       "      <td>admin.</td>\n",
       "      <td>married</td>\n",
       "      <td>no</td>\n",
       "      <td>yes</td>\n",
       "      <td>yes</td>\n",
       "      <td>2</td>\n",
       "      <td>0</td>\n",
       "      <td>0</td>\n",
       "    </tr>\n",
       "    <tr>\n",
       "      <th>3</th>\n",
       "      <td>4</td>\n",
       "      <td>28</td>\n",
       "      <td>management</td>\n",
       "      <td>single</td>\n",
       "      <td>no</td>\n",
       "      <td>yes</td>\n",
       "      <td>yes</td>\n",
       "      <td>2</td>\n",
       "      <td>0</td>\n",
       "      <td>0</td>\n",
       "    </tr>\n",
       "    <tr>\n",
       "      <th>4</th>\n",
       "      <td>5</td>\n",
       "      <td>42</td>\n",
       "      <td>technician</td>\n",
       "      <td>divorced</td>\n",
       "      <td>no</td>\n",
       "      <td>yes</td>\n",
       "      <td>no</td>\n",
       "      <td>5</td>\n",
       "      <td>0</td>\n",
       "      <td>0</td>\n",
       "    </tr>\n",
       "  </tbody>\n",
       "</table>\n",
       "</div>"
      ],
      "text/plain": [
       "   ID  age         job   marital default returned loan  \\\n",
       "0   1   43  management   married      no      yes   no   \n",
       "1   2   42  technician  divorced      no      yes   no   \n",
       "2   3   47      admin.   married      no      yes  yes   \n",
       "3   4   28  management    single      no      yes  yes   \n",
       "4   5   42  technician  divorced      no      yes   no   \n",
       "\n",
       "   coupon_used_in_last6_month  coupon_used_in_last_month  coupon_ind  \n",
       "0                           2                          0           0  \n",
       "1                           1                          1           0  \n",
       "2                           2                          0           0  \n",
       "3                           2                          0           0  \n",
       "4                           5                          0           0  "
      ]
     },
     "execution_count": 4,
     "metadata": {},
     "output_type": "execute_result"
    }
   ],
   "source": [
    "pdd.head()"
   ]
  },
  {
   "cell_type": "code",
   "execution_count": 5,
   "metadata": {},
   "outputs": [
    {
     "name": "stdout",
     "output_type": "stream",
     "text": [
      "<class 'pandas.core.frame.DataFrame'>\n",
      "RangeIndex: 25317 entries, 0 to 25316\n",
      "Data columns (total 10 columns):\n",
      "ID                            25317 non-null int64\n",
      "age                           25317 non-null int64\n",
      "job                           25317 non-null object\n",
      "marital                       25317 non-null object\n",
      "default                       25317 non-null object\n",
      "returned                      25317 non-null object\n",
      "loan                          25317 non-null object\n",
      "coupon_used_in_last6_month    25317 non-null int64\n",
      "coupon_used_in_last_month     25317 non-null int64\n",
      "coupon_ind                    25317 non-null int64\n",
      "dtypes: int64(5), object(5)\n",
      "memory usage: 1.9+ MB\n"
     ]
    }
   ],
   "source": [
    "# 查看字段\n",
    "pdd.info()"
   ]
  },
  {
   "cell_type": "code",
   "execution_count": 6,
   "metadata": {},
   "outputs": [
    {
     "data": {
      "text/html": [
       "<div>\n",
       "<style scoped>\n",
       "    .dataframe tbody tr th:only-of-type {\n",
       "        vertical-align: middle;\n",
       "    }\n",
       "\n",
       "    .dataframe tbody tr th {\n",
       "        vertical-align: top;\n",
       "    }\n",
       "\n",
       "    .dataframe thead th {\n",
       "        text-align: right;\n",
       "    }\n",
       "</style>\n",
       "<table border=\"1\" class=\"dataframe\">\n",
       "  <thead>\n",
       "    <tr style=\"text-align: right;\">\n",
       "      <th></th>\n",
       "      <th>字段名</th>\n",
       "      <th>缺失值数量</th>\n",
       "    </tr>\n",
       "  </thead>\n",
       "  <tbody>\n",
       "    <tr>\n",
       "      <th>0</th>\n",
       "      <td>ID</td>\n",
       "      <td>0</td>\n",
       "    </tr>\n",
       "    <tr>\n",
       "      <th>1</th>\n",
       "      <td>age</td>\n",
       "      <td>0</td>\n",
       "    </tr>\n",
       "    <tr>\n",
       "      <th>2</th>\n",
       "      <td>job</td>\n",
       "      <td>0</td>\n",
       "    </tr>\n",
       "    <tr>\n",
       "      <th>3</th>\n",
       "      <td>marital</td>\n",
       "      <td>0</td>\n",
       "    </tr>\n",
       "    <tr>\n",
       "      <th>4</th>\n",
       "      <td>default</td>\n",
       "      <td>0</td>\n",
       "    </tr>\n",
       "    <tr>\n",
       "      <th>5</th>\n",
       "      <td>returned</td>\n",
       "      <td>0</td>\n",
       "    </tr>\n",
       "    <tr>\n",
       "      <th>6</th>\n",
       "      <td>loan</td>\n",
       "      <td>0</td>\n",
       "    </tr>\n",
       "    <tr>\n",
       "      <th>7</th>\n",
       "      <td>coupon_used_in_last6_month</td>\n",
       "      <td>0</td>\n",
       "    </tr>\n",
       "    <tr>\n",
       "      <th>8</th>\n",
       "      <td>coupon_used_in_last_month</td>\n",
       "      <td>0</td>\n",
       "    </tr>\n",
       "    <tr>\n",
       "      <th>9</th>\n",
       "      <td>coupon_ind</td>\n",
       "      <td>0</td>\n",
       "    </tr>\n",
       "  </tbody>\n",
       "</table>\n",
       "</div>"
      ],
      "text/plain": [
       "                          字段名  缺失值数量\n",
       "0                          ID      0\n",
       "1                         age      0\n",
       "2                         job      0\n",
       "3                     marital      0\n",
       "4                     default      0\n",
       "5                    returned      0\n",
       "6                        loan      0\n",
       "7  coupon_used_in_last6_month      0\n",
       "8   coupon_used_in_last_month      0\n",
       "9                  coupon_ind      0"
      ]
     },
     "execution_count": 6,
     "metadata": {},
     "output_type": "execute_result"
    }
   ],
   "source": [
    "# 缺失值分析\n",
    "pd.DataFrame(pdd.isnull().sum()).reset_index().rename(columns={'index':'字段名', 0:'缺失值数量'})"
   ]
  },
  {
   "cell_type": "code",
   "execution_count": 7,
   "metadata": {},
   "outputs": [
    {
     "data": {
      "text/html": [
       "<div>\n",
       "<style scoped>\n",
       "    .dataframe tbody tr th:only-of-type {\n",
       "        vertical-align: middle;\n",
       "    }\n",
       "\n",
       "    .dataframe tbody tr th {\n",
       "        vertical-align: top;\n",
       "    }\n",
       "\n",
       "    .dataframe thead th {\n",
       "        text-align: right;\n",
       "    }\n",
       "</style>\n",
       "<table border=\"1\" class=\"dataframe\">\n",
       "  <thead>\n",
       "    <tr style=\"text-align: right;\">\n",
       "      <th></th>\n",
       "      <th>age</th>\n",
       "      <th>coupon_used_in_last6_month</th>\n",
       "      <th>coupon_used_in_last_month</th>\n",
       "    </tr>\n",
       "  </thead>\n",
       "  <tbody>\n",
       "    <tr>\n",
       "      <th>count</th>\n",
       "      <td>25317.000000</td>\n",
       "      <td>25317.000000</td>\n",
       "      <td>25317.000000</td>\n",
       "    </tr>\n",
       "    <tr>\n",
       "      <th>mean</th>\n",
       "      <td>40.935379</td>\n",
       "      <td>2.772050</td>\n",
       "      <td>0.292847</td>\n",
       "    </tr>\n",
       "    <tr>\n",
       "      <th>std</th>\n",
       "      <td>10.634289</td>\n",
       "      <td>3.136097</td>\n",
       "      <td>0.765498</td>\n",
       "    </tr>\n",
       "    <tr>\n",
       "      <th>min</th>\n",
       "      <td>18.000000</td>\n",
       "      <td>1.000000</td>\n",
       "      <td>0.000000</td>\n",
       "    </tr>\n",
       "    <tr>\n",
       "      <th>25%</th>\n",
       "      <td>33.000000</td>\n",
       "      <td>1.000000</td>\n",
       "      <td>0.000000</td>\n",
       "    </tr>\n",
       "    <tr>\n",
       "      <th>50%</th>\n",
       "      <td>39.000000</td>\n",
       "      <td>2.000000</td>\n",
       "      <td>0.000000</td>\n",
       "    </tr>\n",
       "    <tr>\n",
       "      <th>75%</th>\n",
       "      <td>48.000000</td>\n",
       "      <td>3.000000</td>\n",
       "      <td>0.000000</td>\n",
       "    </tr>\n",
       "    <tr>\n",
       "      <th>max</th>\n",
       "      <td>95.000000</td>\n",
       "      <td>55.000000</td>\n",
       "      <td>15.000000</td>\n",
       "    </tr>\n",
       "  </tbody>\n",
       "</table>\n",
       "</div>"
      ],
      "text/plain": [
       "                age  coupon_used_in_last6_month  coupon_used_in_last_month\n",
       "count  25317.000000                25317.000000               25317.000000\n",
       "mean      40.935379                    2.772050                   0.292847\n",
       "std       10.634289                    3.136097                   0.765498\n",
       "min       18.000000                    1.000000                   0.000000\n",
       "25%       33.000000                    1.000000                   0.000000\n",
       "50%       39.000000                    2.000000                   0.000000\n",
       "75%       48.000000                    3.000000                   0.000000\n",
       "max       95.000000                   55.000000                  15.000000"
      ]
     },
     "execution_count": 7,
     "metadata": {},
     "output_type": "execute_result"
    }
   ],
   "source": [
    "# 数值型变量异常值分析\n",
    "pdd.describe().drop(['ID', 'coupon_ind'], axis=1)"
   ]
  },
  {
   "cell_type": "markdown",
   "metadata": {},
   "source": [
    "- age中可能存在离群值\n",
    "- coupon_used_in_last6_month中可能存在离群值"
   ]
  },
  {
   "cell_type": "code",
   "execution_count": 8,
   "metadata": {},
   "outputs": [
    {
     "data": {
      "text/plain": [
       "0"
      ]
     },
     "execution_count": 8,
     "metadata": {},
     "output_type": "execute_result"
    }
   ],
   "source": [
    "sum(pdd.duplicated())"
   ]
  },
  {
   "cell_type": "markdown",
   "metadata": {},
   "source": [
    "# 2. 单变量分析"
   ]
  },
  {
   "cell_type": "markdown",
   "metadata": {},
   "source": [
    "## 2.1 预测目标"
   ]
  },
  {
   "cell_type": "code",
   "execution_count": 9,
   "metadata": {},
   "outputs": [
    {
     "data": {
      "text/html": [
       "<div>\n",
       "<style scoped>\n",
       "    .dataframe tbody tr th:only-of-type {\n",
       "        vertical-align: middle;\n",
       "    }\n",
       "\n",
       "    .dataframe tbody tr th {\n",
       "        vertical-align: top;\n",
       "    }\n",
       "\n",
       "    .dataframe thead th {\n",
       "        text-align: right;\n",
       "    }\n",
       "</style>\n",
       "<table border=\"1\" class=\"dataframe\">\n",
       "  <thead>\n",
       "    <tr style=\"text-align: right;\">\n",
       "      <th></th>\n",
       "      <th>占比</th>\n",
       "    </tr>\n",
       "    <tr>\n",
       "      <th>类别</th>\n",
       "      <th></th>\n",
       "    </tr>\n",
       "  </thead>\n",
       "  <tbody>\n",
       "    <tr>\n",
       "      <th>0</th>\n",
       "      <td>0.883043</td>\n",
       "    </tr>\n",
       "    <tr>\n",
       "      <th>1</th>\n",
       "      <td>0.116957</td>\n",
       "    </tr>\n",
       "  </tbody>\n",
       "</table>\n",
       "</div>"
      ],
      "text/plain": [
       "          占比\n",
       "类别          \n",
       "0   0.883043\n",
       "1   0.116957"
      ]
     },
     "execution_count": 9,
     "metadata": {},
     "output_type": "execute_result"
    }
   ],
   "source": [
    "# coupon_ind中0和1占比\n",
    "pdd.coupon_ind.value_counts(1).reset_index().rename(columns={'index':'类别', 'coupon_ind':'占比'}).set_index('类别')"
   ]
  },
  {
   "cell_type": "markdown",
   "metadata": {},
   "source": [
    "- 数据集不均衡"
   ]
  },
  {
   "cell_type": "markdown",
   "metadata": {},
   "source": [
    "## 2.2 数值型变量"
   ]
  },
  {
   "cell_type": "code",
   "execution_count": 10,
   "metadata": {},
   "outputs": [
    {
     "data": {
      "text/html": [
       "<div>\n",
       "<style scoped>\n",
       "    .dataframe tbody tr th:only-of-type {\n",
       "        vertical-align: middle;\n",
       "    }\n",
       "\n",
       "    .dataframe tbody tr th {\n",
       "        vertical-align: top;\n",
       "    }\n",
       "\n",
       "    .dataframe thead th {\n",
       "        text-align: right;\n",
       "    }\n",
       "</style>\n",
       "<table border=\"1\" class=\"dataframe\">\n",
       "  <thead>\n",
       "    <tr style=\"text-align: right;\">\n",
       "      <th></th>\n",
       "      <th>age</th>\n",
       "      <th>coupon_used_in_last6_month</th>\n",
       "      <th>coupon_used_in_last_month</th>\n",
       "    </tr>\n",
       "    <tr>\n",
       "      <th>coupon_ind</th>\n",
       "      <th></th>\n",
       "      <th></th>\n",
       "      <th></th>\n",
       "    </tr>\n",
       "  </thead>\n",
       "  <tbody>\n",
       "    <tr>\n",
       "      <th>0</th>\n",
       "      <td>40.819601</td>\n",
       "      <td>2.857846</td>\n",
       "      <td>0.260378</td>\n",
       "    </tr>\n",
       "    <tr>\n",
       "      <th>1</th>\n",
       "      <td>41.809524</td>\n",
       "      <td>2.124282</td>\n",
       "      <td>0.537994</td>\n",
       "    </tr>\n",
       "  </tbody>\n",
       "</table>\n",
       "</div>"
      ],
      "text/plain": [
       "                  age  coupon_used_in_last6_month  coupon_used_in_last_month\n",
       "coupon_ind                                                                  \n",
       "0           40.819601                    2.857846                   0.260378\n",
       "1           41.809524                    2.124282                   0.537994"
      ]
     },
     "execution_count": 10,
     "metadata": {},
     "output_type": "execute_result"
    }
   ],
   "source": [
    "pdd.groupby('coupon_ind').mean().drop('ID',axis=1)"
   ]
  },
  {
   "cell_type": "markdown",
   "metadata": {},
   "source": [
    "- 三个字段在0和1不同类别中均值有差异，但age差异不明显"
   ]
  },
  {
   "cell_type": "code",
   "execution_count": 11,
   "metadata": {},
   "outputs": [
    {
     "data": {
      "image/png": "[encoded data removed]",
      "text/plain": [
       "<Figure size 576x432 with 1 Axes>"
      ]
     },
     "metadata": {
      "needs_background": "light"
     },
     "output_type": "display_data"
    }
   ],
   "source": [
    "# 用户年龄\n",
    "plt.figure(figsize=(8,6))\n",
    "sns.distplot(pdd['age'], bins =20)\n",
    "plt.tick_params(labelsize=16)\n",
    "plt.xlabel('年龄', size=18);"
   ]
  },
  {
   "cell_type": "code",
   "execution_count": 12,
   "metadata": {},
   "outputs": [
    {
     "data": {
      "image/png": "[encoded data removed]",
      "text/plain": [
       "<Figure size 576x432 with 1 Axes>"
      ]
     },
     "metadata": {
      "needs_background": "light"
     },
     "output_type": "display_data"
    }
   ],
   "source": [
    "plt.figure(figsize=(8,6))\n",
    "pdd['age'].plot(kind='box')\n",
    "plt.tick_params(labelsize=16)\n",
    "plt.xlabel('年龄', size=18);"
   ]
  },
  {
   "cell_type": "markdown",
   "metadata": {},
   "source": [
    "- 用户年龄主要集中在50岁以下\n",
    "- 考虑分箱操作或踢出离群值"
   ]
  },
  {
   "cell_type": "code",
   "execution_count": 13,
   "metadata": {},
   "outputs": [
    {
     "data": {
      "image/png": "[encoded data removed]",
      "text/plain": [
       "<Figure size 576x432 with 1 Axes>"
      ]
     },
     "metadata": {
      "needs_background": "light"
     },
     "output_type": "display_data"
    }
   ],
   "source": [
    "# 用户近6个月使用优惠券数量\n",
    "plt.figure(figsize=(8,6))\n",
    "pdd['coupon_used_in_last6_month'].plot(kind='box')\n",
    "plt.tick_params(labelsize=16)\n",
    "plt.xlabel('近6个月使用优惠券数量', size=18);"
   ]
  },
  {
   "cell_type": "code",
   "execution_count": 14,
   "metadata": {},
   "outputs": [
    {
     "data": {
      "image/png": "[encoded data removed]",
      "text/plain": [
       "<Figure size 576x432 with 1 Axes>"
      ]
     },
     "metadata": {
      "needs_background": "light"
     },
     "output_type": "display_data"
    }
   ],
   "source": [
    "plt.figure(figsize=(8,6))\n",
    "pdd['coupon_used_in_last6_month'].plot(kind='hist', bins=50)\n",
    "plt.tick_params(labelsize=16)\n",
    "plt.xlabel('近6个月使用优惠券数量', size=18);\n",
    "plt.ylabel('频数', size=18);"
   ]
  },
  {
   "cell_type": "markdown",
   "metadata": {},
   "source": [
    "- 用户近6个月使用优惠券数量主要集中在10以下\n",
    "- 考虑分箱操作或剔除离群值"
   ]
  },
  {
   "cell_type": "code",
   "execution_count": 15,
   "metadata": {},
   "outputs": [
    {
     "data": {
      "image/png": "[encoded data removed]",
      "text/plain": [
       "<Figure size 576x432 with 1 Axes>"
      ]
     },
     "metadata": {
      "needs_background": "light"
     },
     "output_type": "display_data"
    }
   ],
   "source": [
    "# 用户近1个月使用优惠券数量\n",
    "plt.figure(figsize=(8,6))\n",
    "pdd['coupon_used_in_last_month'].plot(kind='hist', bins=10)\n",
    "plt.tick_params(labelsize=16)\n",
    "plt.xlabel('近1个月使用优惠券数量', size=18);\n",
    "plt.ylabel('频数', size=18);"
   ]
  },
  {
   "cell_type": "markdown",
   "metadata": {},
   "source": [
    "- 用户近1个月使用优惠券数量没什么异常"
   ]
  },
  {
   "cell_type": "markdown",
   "metadata": {},
   "source": [
    "## 2.3 类别型变量"
   ]
  },
  {
   "cell_type": "code",
   "execution_count": 16,
   "metadata": {},
   "outputs": [
    {
     "data": {
      "image/png": "[encoded data removed]",
      "text/plain": [
       "<Figure size 576x432 with 1 Axes>"
      ]
     },
     "metadata": {
      "needs_background": "light"
     },
     "output_type": "display_data"
    }
   ],
   "source": [
    "# 用户工作情况\n",
    "plt.figure(figsize=(8,6))\n",
    "sns.countplot(x='job', data=pdd, hue='coupon_ind')\n",
    "plt.xticks(rotation=45)\n",
    "plt.tick_params(labelsize=16)\n",
    "plt.xlabel('工作', size=18)\n",
    "plt.ylabel('计数', size=18)\n",
    "plt.legend(fontsize=16);"
   ]
  },
  {
   "cell_type": "code",
   "execution_count": 17,
   "metadata": {},
   "outputs": [
    {
     "data": {
      "text/plain": [
       "coupon_ind  job          \n",
       "0           blue-collar      0.226740\n",
       "            management       0.203972\n",
       "            technician       0.168188\n",
       "            admin.           0.114868\n",
       "            services         0.095321\n",
       "            retired          0.043612\n",
       "            entrepreneur     0.035293\n",
       "            self-employed    0.034845\n",
       "            housemaid        0.027062\n",
       "            unemployed       0.026257\n",
       "            student          0.017445\n",
       "            unknown          0.006396\n",
       "1           management       0.248565\n",
       "            technician       0.162445\n",
       "            blue-collar      0.130699\n",
       "            admin.           0.115164\n",
       "            retired          0.100642\n",
       "            services         0.071260\n",
       "            student          0.048294\n",
       "            unemployed       0.038501\n",
       "            self-employed    0.035461\n",
       "            entrepreneur     0.022627\n",
       "            housemaid        0.019588\n",
       "            unknown          0.006754\n",
       "Name: job, dtype: float64"
      ]
     },
     "execution_count": 17,
     "metadata": {},
     "output_type": "execute_result"
    }
   ],
   "source": [
    "pdd.groupby('coupon_ind')['job'].value_counts(1)"
   ]
  },
  {
   "cell_type": "markdown",
   "metadata": {},
   "source": [
    "- 0和1间职业分布不同，会使用优惠券的样本中从事管理行业的人居多，而不使用优惠券的人群中蓝领居多"
   ]
  },
  {
   "cell_type": "code",
   "execution_count": 18,
   "metadata": {},
   "outputs": [
    {
     "data": {
      "image/png": "[encoded data removed]",
      "text/plain": [
       "<Figure size 576x432 with 1 Axes>"
      ]
     },
     "metadata": {
      "needs_background": "light"
     },
     "output_type": "display_data"
    }
   ],
   "source": [
    "# 用户婚姻状况\n",
    "plt.figure(figsize=(8,6))\n",
    "sns.countplot(x='marital', data=pdd, hue='coupon_ind')\n",
    "plt.xticks(rotation=45)\n",
    "plt.tick_params(labelsize=16)\n",
    "plt.xlabel('婚姻状况', size=18)\n",
    "plt.ylabel('计数', size=18)\n",
    "plt.legend(fontsize=16);"
   ]
  },
  {
   "cell_type": "code",
   "execution_count": 19,
   "metadata": {},
   "outputs": [
    {
     "data": {
      "text/plain": [
       "coupon_ind  marital \n",
       "0           married     0.611916\n",
       "            single      0.273260\n",
       "            divorced    0.114824\n",
       "1           married     0.528538\n",
       "            single      0.353934\n",
       "            divorced    0.117528\n",
       "Name: marital, dtype: float64"
      ]
     },
     "execution_count": 19,
     "metadata": {},
     "output_type": "execute_result"
    }
   ],
   "source": [
    "pdd.groupby('coupon_ind')['marital'].value_counts(1)"
   ]
  },
  {
   "cell_type": "markdown",
   "metadata": {},
   "source": [
    "- 0和1间各类别占比不同，但差别不大"
   ]
  },
  {
   "cell_type": "code",
   "execution_count": 20,
   "metadata": {},
   "outputs": [
    {
     "data": {
      "image/png": "[encoded data removed]",
      "text/plain": [
       "<Figure size 576x432 with 1 Axes>"
      ]
     },
     "metadata": {
      "needs_background": "light"
     },
     "output_type": "display_data"
    }
   ],
   "source": [
    "# 用户信用卡违约情况\n",
    "plt.figure(figsize=(8,6))\n",
    "sns.countplot(x='default', data=pdd, hue='coupon_ind')\n",
    "plt.xticks(rotation=45)\n",
    "plt.tick_params(labelsize=16)\n",
    "plt.xlabel('信用卡是否违约', size=18)\n",
    "plt.ylabel('计数', size=18)\n",
    "plt.legend(fontsize=16);"
   ]
  },
  {
   "cell_type": "code",
   "execution_count": 21,
   "metadata": {
    "scrolled": true
   },
   "outputs": [
    {
     "data": {
      "text/plain": [
       "coupon_ind  default\n",
       "0           no         0.981124\n",
       "            yes        0.018876\n",
       "1           no         0.991219\n",
       "            yes        0.008781\n",
       "Name: default, dtype: float64"
      ]
     },
     "execution_count": 21,
     "metadata": {},
     "output_type": "execute_result"
    }
   ],
   "source": [
    "pdd.groupby('coupon_ind')['default'].value_counts(1)"
   ]
  },
  {
   "cell_type": "markdown",
   "metadata": {},
   "source": [
    "- 0和1中均是信用卡不违约的人群占绝大多数，几乎无差异"
   ]
  },
  {
   "cell_type": "code",
   "execution_count": 22,
   "metadata": {},
   "outputs": [
    {
     "data": {
      "image/png": "[encoded data removed]",
      "text/plain": [
       "<Figure size 576x432 with 1 Axes>"
      ]
     },
     "metadata": {
      "needs_background": "light"
     },
     "output_type": "display_data"
    }
   ],
   "source": [
    "# 用户退货情况\n",
    "plt.figure(figsize=(8,6))\n",
    "sns.countplot(x='returned', data=pdd, hue='coupon_ind')\n",
    "plt.xticks(rotation=45)\n",
    "plt.tick_params(labelsize=16)\n",
    "plt.xlabel('是否有过退货', size=18)\n",
    "plt.ylabel('计数', size=18)\n",
    "plt.legend(fontsize=16);"
   ]
  },
  {
   "cell_type": "code",
   "execution_count": 23,
   "metadata": {},
   "outputs": [
    {
     "data": {
      "text/plain": [
       "coupon_ind  returned\n",
       "0           yes         0.579755\n",
       "            no          0.420245\n",
       "1           no          0.642351\n",
       "            yes         0.357649\n",
       "Name: returned, dtype: float64"
      ]
     },
     "execution_count": 23,
     "metadata": {},
     "output_type": "execute_result"
    }
   ],
   "source": [
    "pdd.groupby('coupon_ind')['returned'].value_counts(1)"
   ]
  },
  {
   "cell_type": "markdown",
   "metadata": {},
   "source": [
    "- 0中用户多有过退货行为，1中多数用户不退货"
   ]
  },
  {
   "cell_type": "code",
   "execution_count": 24,
   "metadata": {},
   "outputs": [
    {
     "data": {
      "image/png": "[encoded data removed]",
      "text/plain": [
       "<Figure size 576x432 with 1 Axes>"
      ]
     },
     "metadata": {
      "needs_background": "light"
     },
     "output_type": "display_data"
    }
   ],
   "source": [
    "# 用户使用信用卡付款情况\n",
    "plt.figure(figsize=(8,6))\n",
    "sns.countplot(x='loan', data=pdd, hue='coupon_ind')\n",
    "plt.xticks(rotation=45)\n",
    "plt.tick_params(labelsize=16)\n",
    "plt.xlabel('是否使用信用卡付款', size=18)\n",
    "plt.ylabel('计数', size=18)\n",
    "plt.legend(fontsize=16);"
   ]
  },
  {
   "cell_type": "code",
   "execution_count": 25,
   "metadata": {},
   "outputs": [
    {
     "data": {
      "text/plain": [
       "coupon_ind  loan\n",
       "0           no      0.830963\n",
       "            yes     0.169037\n",
       "1           no      0.905437\n",
       "            yes     0.094563\n",
       "Name: loan, dtype: float64"
      ]
     },
     "execution_count": 25,
     "metadata": {},
     "output_type": "execute_result"
    }
   ],
   "source": [
    "pdd.groupby('coupon_ind')['loan'].value_counts(1)"
   ]
  },
  {
   "cell_type": "markdown",
   "metadata": {},
   "source": [
    "- 0和1中均是使用过信用卡付款的人群占绝大多数，但1中的比例更高"
   ]
  },
  {
   "cell_type": "markdown",
   "metadata": {},
   "source": [
    "# 3. 数据处理"
   ]
  },
  {
   "cell_type": "code",
   "execution_count": 26,
   "metadata": {},
   "outputs": [],
   "source": [
    "# 复制数据作备份\n",
    "pdd_clean = pdd.copy()"
   ]
  },
  {
   "cell_type": "code",
   "execution_count": 27,
   "metadata": {},
   "outputs": [],
   "source": [
    "# 去掉ID字段\n",
    "pdd_clean.drop('ID', axis=1, inplace=True)"
   ]
  },
  {
   "cell_type": "code",
   "execution_count": 28,
   "metadata": {},
   "outputs": [],
   "source": [
    "# 将coupon_ind更名为flag\n",
    "pdd_clean = pdd_clean.rename(columns={'coupon_ind':'flag'})"
   ]
  },
  {
   "cell_type": "code",
   "execution_count": 29,
   "metadata": {},
   "outputs": [],
   "source": [
    "# 将年龄分段\n",
    "bins = [0, 25, 45, 65, 100]\n",
    "labels = ['<25', '25-45', '45-65', '>65']\n",
    "pdd_clean['age_range'] = pd.cut(pdd_clean['age'], bins, right=False, labels = labels)"
   ]
  },
  {
   "cell_type": "code",
   "execution_count": 30,
   "metadata": {},
   "outputs": [],
   "source": [
    "# 将用户近6个月使用优惠券数量分段\n",
    "bins = [0, 10, 100]\n",
    "labels = ['<10', '>=10']\n",
    "pdd_clean['coupon_last6_range'] = pd.cut(pdd_clean['coupon_used_in_last6_month'], bins, right=False, labels = labels)"
   ]
  },
  {
   "cell_type": "code",
   "execution_count": 31,
   "metadata": {},
   "outputs": [],
   "source": [
    "# 将类别变量转换成哑变量，并去掉冗余字段\n",
    "pdd_clean = pd.get_dummies(pdd_clean, drop_first=True)"
   ]
  },
  {
   "cell_type": "code",
   "execution_count": 32,
   "metadata": {},
   "outputs": [
    {
     "data": {
      "text/html": [
       "<div>\n",
       "<style scoped>\n",
       "    .dataframe tbody tr th:only-of-type {\n",
       "        vertical-align: middle;\n",
       "    }\n",
       "\n",
       "    .dataframe tbody tr th {\n",
       "        vertical-align: top;\n",
       "    }\n",
       "\n",
       "    .dataframe thead th {\n",
       "        text-align: right;\n",
       "    }\n",
       "</style>\n",
       "<table border=\"1\" class=\"dataframe\">\n",
       "  <thead>\n",
       "    <tr style=\"text-align: right;\">\n",
       "      <th></th>\n",
       "      <th>age</th>\n",
       "      <th>coupon_used_in_last6_month</th>\n",
       "      <th>coupon_used_in_last_month</th>\n",
       "      <th>flag</th>\n",
       "      <th>job_blue-collar</th>\n",
       "      <th>job_entrepreneur</th>\n",
       "      <th>job_housemaid</th>\n",
       "      <th>job_management</th>\n",
       "      <th>job_retired</th>\n",
       "      <th>job_self-employed</th>\n",
       "      <th>...</th>\n",
       "      <th>job_unknown</th>\n",
       "      <th>marital_married</th>\n",
       "      <th>marital_single</th>\n",
       "      <th>default_yes</th>\n",
       "      <th>returned_yes</th>\n",
       "      <th>loan_yes</th>\n",
       "      <th>age_range_25-45</th>\n",
       "      <th>age_range_45-65</th>\n",
       "      <th>age_range_&gt;65</th>\n",
       "      <th>coupon_last6_range_&gt;=10</th>\n",
       "    </tr>\n",
       "  </thead>\n",
       "  <tbody>\n",
       "    <tr>\n",
       "      <th>0</th>\n",
       "      <td>43</td>\n",
       "      <td>2</td>\n",
       "      <td>0</td>\n",
       "      <td>0</td>\n",
       "      <td>0</td>\n",
       "      <td>0</td>\n",
       "      <td>0</td>\n",
       "      <td>1</td>\n",
       "      <td>0</td>\n",
       "      <td>0</td>\n",
       "      <td>...</td>\n",
       "      <td>0</td>\n",
       "      <td>1</td>\n",
       "      <td>0</td>\n",
       "      <td>0</td>\n",
       "      <td>1</td>\n",
       "      <td>0</td>\n",
       "      <td>1</td>\n",
       "      <td>0</td>\n",
       "      <td>0</td>\n",
       "      <td>0</td>\n",
       "    </tr>\n",
       "    <tr>\n",
       "      <th>1</th>\n",
       "      <td>42</td>\n",
       "      <td>1</td>\n",
       "      <td>1</td>\n",
       "      <td>0</td>\n",
       "      <td>0</td>\n",
       "      <td>0</td>\n",
       "      <td>0</td>\n",
       "      <td>0</td>\n",
       "      <td>0</td>\n",
       "      <td>0</td>\n",
       "      <td>...</td>\n",
       "      <td>0</td>\n",
       "      <td>0</td>\n",
       "      <td>0</td>\n",
       "      <td>0</td>\n",
       "      <td>1</td>\n",
       "      <td>0</td>\n",
       "      <td>1</td>\n",
       "      <td>0</td>\n",
       "      <td>0</td>\n",
       "      <td>0</td>\n",
       "    </tr>\n",
       "    <tr>\n",
       "      <th>2</th>\n",
       "      <td>47</td>\n",
       "      <td>2</td>\n",
       "      <td>0</td>\n",
       "      <td>0</td>\n",
       "      <td>0</td>\n",
       "      <td>0</td>\n",
       "      <td>0</td>\n",
       "      <td>0</td>\n",
       "      <td>0</td>\n",
       "      <td>0</td>\n",
       "      <td>...</td>\n",
       "      <td>0</td>\n",
       "      <td>1</td>\n",
       "      <td>0</td>\n",
       "      <td>0</td>\n",
       "      <td>1</td>\n",
       "      <td>1</td>\n",
       "      <td>0</td>\n",
       "      <td>1</td>\n",
       "      <td>0</td>\n",
       "      <td>0</td>\n",
       "    </tr>\n",
       "    <tr>\n",
       "      <th>3</th>\n",
       "      <td>28</td>\n",
       "      <td>2</td>\n",
       "      <td>0</td>\n",
       "      <td>0</td>\n",
       "      <td>0</td>\n",
       "      <td>0</td>\n",
       "      <td>0</td>\n",
       "      <td>1</td>\n",
       "      <td>0</td>\n",
       "      <td>0</td>\n",
       "      <td>...</td>\n",
       "      <td>0</td>\n",
       "      <td>0</td>\n",
       "      <td>1</td>\n",
       "      <td>0</td>\n",
       "      <td>1</td>\n",
       "      <td>1</td>\n",
       "      <td>1</td>\n",
       "      <td>0</td>\n",
       "      <td>0</td>\n",
       "      <td>0</td>\n",
       "    </tr>\n",
       "    <tr>\n",
       "      <th>4</th>\n",
       "      <td>42</td>\n",
       "      <td>5</td>\n",
       "      <td>0</td>\n",
       "      <td>0</td>\n",
       "      <td>0</td>\n",
       "      <td>0</td>\n",
       "      <td>0</td>\n",
       "      <td>0</td>\n",
       "      <td>0</td>\n",
       "      <td>0</td>\n",
       "      <td>...</td>\n",
       "      <td>0</td>\n",
       "      <td>0</td>\n",
       "      <td>0</td>\n",
       "      <td>0</td>\n",
       "      <td>1</td>\n",
       "      <td>0</td>\n",
       "      <td>1</td>\n",
       "      <td>0</td>\n",
       "      <td>0</td>\n",
       "      <td>0</td>\n",
       "    </tr>\n",
       "  </tbody>\n",
       "</table>\n",
       "<p>5 rows × 24 columns</p>\n",
       "</div>"
      ],
      "text/plain": [
       "   age  coupon_used_in_last6_month  coupon_used_in_last_month  flag  \\\n",
       "0   43                           2                          0     0   \n",
       "1   42                           1                          1     0   \n",
       "2   47                           2                          0     0   \n",
       "3   28                           2                          0     0   \n",
       "4   42                           5                          0     0   \n",
       "\n",
       "   job_blue-collar  job_entrepreneur  job_housemaid  job_management  \\\n",
       "0                0                 0              0               1   \n",
       "1                0                 0              0               0   \n",
       "2                0                 0              0               0   \n",
       "3                0                 0              0               1   \n",
       "4                0                 0              0               0   \n",
       "\n",
       "   job_retired  job_self-employed           ...             job_unknown  \\\n",
       "0            0                  0           ...                       0   \n",
       "1            0                  0           ...                       0   \n",
       "2            0                  0           ...                       0   \n",
       "3            0                  0           ...                       0   \n",
       "4            0                  0           ...                       0   \n",
       "\n",
       "   marital_married  marital_single  default_yes  returned_yes  loan_yes  \\\n",
       "0                1               0            0             1         0   \n",
       "1                0               0            0             1         0   \n",
       "2                1               0            0             1         1   \n",
       "3                0               1            0             1         1   \n",
       "4                0               0            0             1         0   \n",
       "\n",
       "   age_range_25-45  age_range_45-65  age_range_>65  coupon_last6_range_>=10  \n",
       "0                1                0              0                        0  \n",
       "1                1                0              0                        0  \n",
       "2                0                1              0                        0  \n",
       "3                1                0              0                        0  \n",
       "4                1                0              0                        0  \n",
       "\n",
       "[5 rows x 24 columns]"
      ]
     },
     "execution_count": 32,
     "metadata": {},
     "output_type": "execute_result"
    }
   ],
   "source": [
    "pdd_clean.head()"
   ]
  },
  {
   "cell_type": "markdown",
   "metadata": {},
   "source": [
    "# 4. 多变量分析"
   ]
  },
  {
   "cell_type": "code",
   "execution_count": 33,
   "metadata": {},
   "outputs": [
    {
     "data": {
      "text/html": [
       "<div>\n",
       "<style scoped>\n",
       "    .dataframe tbody tr th:only-of-type {\n",
       "        vertical-align: middle;\n",
       "    }\n",
       "\n",
       "    .dataframe tbody tr th {\n",
       "        vertical-align: top;\n",
       "    }\n",
       "\n",
       "    .dataframe thead th {\n",
       "        text-align: right;\n",
       "    }\n",
       "</style>\n",
       "<table border=\"1\" class=\"dataframe\">\n",
       "  <thead>\n",
       "    <tr style=\"text-align: right;\">\n",
       "      <th></th>\n",
       "      <th>flag</th>\n",
       "    </tr>\n",
       "  </thead>\n",
       "  <tbody>\n",
       "    <tr>\n",
       "      <th>flag</th>\n",
       "      <td>1.000000</td>\n",
       "    </tr>\n",
       "    <tr>\n",
       "      <th>age_range_&gt;65</th>\n",
       "      <td>0.130724</td>\n",
       "    </tr>\n",
       "    <tr>\n",
       "      <th>coupon_used_in_last_month</th>\n",
       "      <td>0.116550</td>\n",
       "    </tr>\n",
       "    <tr>\n",
       "      <th>job_retired</th>\n",
       "      <td>0.083868</td>\n",
       "    </tr>\n",
       "    <tr>\n",
       "      <th>job_student</th>\n",
       "      <td>0.069058</td>\n",
       "    </tr>\n",
       "    <tr>\n",
       "      <th>marital_single</th>\n",
       "      <td>0.057574</td>\n",
       "    </tr>\n",
       "    <tr>\n",
       "      <th>job_management</th>\n",
       "      <td>0.035234</td>\n",
       "    </tr>\n",
       "    <tr>\n",
       "      <th>age</th>\n",
       "      <td>0.029916</td>\n",
       "    </tr>\n",
       "    <tr>\n",
       "      <th>job_unemployed</th>\n",
       "      <td>0.023980</td>\n",
       "    </tr>\n",
       "    <tr>\n",
       "      <th>job_unknown</th>\n",
       "      <td>0.001438</td>\n",
       "    </tr>\n",
       "    <tr>\n",
       "      <th>job_self-employed</th>\n",
       "      <td>0.001078</td>\n",
       "    </tr>\n",
       "    <tr>\n",
       "      <th>job_technician</th>\n",
       "      <td>-0.004942</td>\n",
       "    </tr>\n",
       "    <tr>\n",
       "      <th>job_housemaid</th>\n",
       "      <td>-0.015041</td>\n",
       "    </tr>\n",
       "    <tr>\n",
       "      <th>job_entrepreneur</th>\n",
       "      <td>-0.022519</td>\n",
       "    </tr>\n",
       "    <tr>\n",
       "      <th>default_yes</th>\n",
       "      <td>-0.024608</td>\n",
       "    </tr>\n",
       "    <tr>\n",
       "      <th>age_range_45-65</th>\n",
       "      <td>-0.024717</td>\n",
       "    </tr>\n",
       "    <tr>\n",
       "      <th>age_range_25-45</th>\n",
       "      <td>-0.025546</td>\n",
       "    </tr>\n",
       "    <tr>\n",
       "      <th>job_services</th>\n",
       "      <td>-0.026688</td>\n",
       "    </tr>\n",
       "    <tr>\n",
       "      <th>coupon_last6_range_&gt;=10</th>\n",
       "      <td>-0.046027</td>\n",
       "    </tr>\n",
       "    <tr>\n",
       "      <th>marital_married</th>\n",
       "      <td>-0.054746</td>\n",
       "    </tr>\n",
       "    <tr>\n",
       "      <th>loan_yes</th>\n",
       "      <td>-0.065231</td>\n",
       "    </tr>\n",
       "    <tr>\n",
       "      <th>job_blue-collar</th>\n",
       "      <td>-0.075065</td>\n",
       "    </tr>\n",
       "    <tr>\n",
       "      <th>coupon_used_in_last6_month</th>\n",
       "      <td>-0.075173</td>\n",
       "    </tr>\n",
       "    <tr>\n",
       "      <th>returned_yes</th>\n",
       "      <td>-0.143589</td>\n",
       "    </tr>\n",
       "  </tbody>\n",
       "</table>\n",
       "</div>"
      ],
      "text/plain": [
       "                                flag\n",
       "flag                        1.000000\n",
       "age_range_>65               0.130724\n",
       "coupon_used_in_last_month   0.116550\n",
       "job_retired                 0.083868\n",
       "job_student                 0.069058\n",
       "marital_single              0.057574\n",
       "job_management              0.035234\n",
       "age                         0.029916\n",
       "job_unemployed              0.023980\n",
       "job_unknown                 0.001438\n",
       "job_self-employed           0.001078\n",
       "job_technician             -0.004942\n",
       "job_housemaid              -0.015041\n",
       "job_entrepreneur           -0.022519\n",
       "default_yes                -0.024608\n",
       "age_range_45-65            -0.024717\n",
       "age_range_25-45            -0.025546\n",
       "job_services               -0.026688\n",
       "coupon_last6_range_>=10    -0.046027\n",
       "marital_married            -0.054746\n",
       "loan_yes                   -0.065231\n",
       "job_blue-collar            -0.075065\n",
       "coupon_used_in_last6_month -0.075173\n",
       "returned_yes               -0.143589"
      ]
     },
     "execution_count": 33,
     "metadata": {},
     "output_type": "execute_result"
    }
   ],
   "source": [
    "# 相关性系数计算\n",
    "pdd_clean.corr()[['flag']].sort_values('flag', ascending=False)"
   ]
  },
  {
   "cell_type": "code",
   "execution_count": 34,
   "metadata": {},
   "outputs": [
    {
     "data": {
      "image/png": "[encoded data removed]",
      "text/plain": [
       "<Figure size 576x432 with 2 Axes>"
      ]
     },
     "metadata": {
      "needs_background": "light"
     },
     "output_type": "display_data"
    }
   ],
   "source": [
    "plt.figure(figsize=(8,6))\n",
    "sns.heatmap(pdd_clean[pdd_clean.corr()[['flag']].sort_values('flag', ascending=False).index].corr(), cmap=\"Greys\")\n",
    "plt.tick_params(labelsize=16)"
   ]
  },
  {
   "cell_type": "markdown",
   "metadata": {},
   "source": [
    "- 变量age_range_>65、coupon_used_in_last_month、job_retired、job_student、matital_single与flag较强烈正相关\n",
    "- 变量marital_married、loan_yes、job_blue-collar、coupon_used_in_last6_month、returned_yes与flag呈现较强负相关性"
   ]
  },
  {
   "cell_type": "markdown",
   "metadata": {},
   "source": [
    "# 5. 逻辑回归模型建立"
   ]
  },
  {
   "cell_type": "code",
   "execution_count": 93,
   "metadata": {},
   "outputs": [],
   "source": [
    "# 保存每个方案的precision, recal, f1, AUC，方便后续优化可视化\n",
    "names = list()\n",
    "scores_train = list()\n",
    "scores_test = list()\n",
    "precisions = list()\n",
    "recalls = list()\n",
    "f1 = list()\n",
    "auc = list()"
   ]
  },
  {
   "cell_type": "code",
   "execution_count": 36,
   "metadata": {},
   "outputs": [
    {
     "name": "stdout",
     "output_type": "stream",
     "text": [
      "['age_range_>65' 'coupon_used_in_last_month' 'job_retired' 'job_student'\n",
      " 'marital_single' 'marital_married' 'loan_yes' 'job_blue-collar'\n",
      " 'coupon_used_in_last6_month' 'returned_yes']\n"
     ]
    }
   ],
   "source": [
    "# 定义自变量，提取相关性系数大于±0.05的变量\n",
    "threshold = 0.05\n",
    "tmp = pdd_clean.corr()[['flag']].sort_values('flag', ascending=False)\n",
    "var = tmp.where(np.abs(tmp)>threshold).dropna(how='any').index.values\n",
    "var = var[1:]\n",
    "X = pdd_clean[var]\n",
    "y = pdd_clean['flag']\n",
    "\n",
    "print(var)"
   ]
  },
  {
   "cell_type": "code",
   "execution_count": 37,
   "metadata": {
    "scrolled": true
   },
   "outputs": [
    {
     "data": {
      "text/html": [
       "<div>\n",
       "<style scoped>\n",
       "    .dataframe tbody tr th:only-of-type {\n",
       "        vertical-align: middle;\n",
       "    }\n",
       "\n",
       "    .dataframe tbody tr th {\n",
       "        vertical-align: top;\n",
       "    }\n",
       "\n",
       "    .dataframe thead th {\n",
       "        text-align: right;\n",
       "    }\n",
       "</style>\n",
       "<table border=\"1\" class=\"dataframe\">\n",
       "  <thead>\n",
       "    <tr style=\"text-align: right;\">\n",
       "      <th></th>\n",
       "      <th>age_range_&gt;65</th>\n",
       "      <th>coupon_used_in_last_month</th>\n",
       "      <th>job_retired</th>\n",
       "      <th>job_student</th>\n",
       "      <th>marital_single</th>\n",
       "      <th>marital_married</th>\n",
       "      <th>loan_yes</th>\n",
       "      <th>job_blue-collar</th>\n",
       "      <th>coupon_used_in_last6_month</th>\n",
       "      <th>returned_yes</th>\n",
       "    </tr>\n",
       "  </thead>\n",
       "  <tbody>\n",
       "    <tr>\n",
       "      <th>0</th>\n",
       "      <td>0</td>\n",
       "      <td>0</td>\n",
       "      <td>0</td>\n",
       "      <td>0</td>\n",
       "      <td>0</td>\n",
       "      <td>1</td>\n",
       "      <td>0</td>\n",
       "      <td>0</td>\n",
       "      <td>2</td>\n",
       "      <td>1</td>\n",
       "    </tr>\n",
       "    <tr>\n",
       "      <th>1</th>\n",
       "      <td>0</td>\n",
       "      <td>1</td>\n",
       "      <td>0</td>\n",
       "      <td>0</td>\n",
       "      <td>0</td>\n",
       "      <td>0</td>\n",
       "      <td>0</td>\n",
       "      <td>0</td>\n",
       "      <td>1</td>\n",
       "      <td>1</td>\n",
       "    </tr>\n",
       "    <tr>\n",
       "      <th>2</th>\n",
       "      <td>0</td>\n",
       "      <td>0</td>\n",
       "      <td>0</td>\n",
       "      <td>0</td>\n",
       "      <td>0</td>\n",
       "      <td>1</td>\n",
       "      <td>1</td>\n",
       "      <td>0</td>\n",
       "      <td>2</td>\n",
       "      <td>1</td>\n",
       "    </tr>\n",
       "    <tr>\n",
       "      <th>3</th>\n",
       "      <td>0</td>\n",
       "      <td>0</td>\n",
       "      <td>0</td>\n",
       "      <td>0</td>\n",
       "      <td>1</td>\n",
       "      <td>0</td>\n",
       "      <td>1</td>\n",
       "      <td>0</td>\n",
       "      <td>2</td>\n",
       "      <td>1</td>\n",
       "    </tr>\n",
       "    <tr>\n",
       "      <th>4</th>\n",
       "      <td>0</td>\n",
       "      <td>0</td>\n",
       "      <td>0</td>\n",
       "      <td>0</td>\n",
       "      <td>0</td>\n",
       "      <td>0</td>\n",
       "      <td>0</td>\n",
       "      <td>0</td>\n",
       "      <td>5</td>\n",
       "      <td>1</td>\n",
       "    </tr>\n",
       "  </tbody>\n",
       "</table>\n",
       "</div>"
      ],
      "text/plain": [
       "   age_range_>65  coupon_used_in_last_month  job_retired  job_student  \\\n",
       "0              0                          0            0            0   \n",
       "1              0                          1            0            0   \n",
       "2              0                          0            0            0   \n",
       "3              0                          0            0            0   \n",
       "4              0                          0            0            0   \n",
       "\n",
       "   marital_single  marital_married  loan_yes  job_blue-collar  \\\n",
       "0               0                1         0                0   \n",
       "1               0                0         0                0   \n",
       "2               0                1         1                0   \n",
       "3               1                0         1                0   \n",
       "4               0                0         0                0   \n",
       "\n",
       "   coupon_used_in_last6_month  returned_yes  \n",
       "0                           2             1  \n",
       "1                           1             1  \n",
       "2                           2             1  \n",
       "3                           2             1  \n",
       "4                           5             1  "
      ]
     },
     "execution_count": 37,
     "metadata": {},
     "output_type": "execute_result"
    }
   ],
   "source": [
    "X.head()"
   ]
  },
  {
   "cell_type": "code",
   "execution_count": 94,
   "metadata": {},
   "outputs": [],
   "source": [
    "# ROC/AUC评估\n",
    "def plot_roc_curve_auc(model, X_test, y_test):\n",
    "    fpr, tpr, thresholds = metrics.roc_curve(y_test, model.decision_function(X_test), pos_label=1)\n",
    "    plt.step(fpr, tpr, where='post', color='b')\n",
    "    plt.fill_between(fpr, tpr, step= 'post', color='b', alpha=0.2)\n",
    "    plt.ylim([0, 1.05])\n",
    "    plt.show()\n",
    "    print(\"AUC=%.4f\"%metrics.auc(fpr, tpr))\n",
    "\n",
    "# 模型评估\n",
    "def evaluation_model(model, X_train, y_train, X_test, y_test):\n",
    "    print(\"训练集打分：%.4f\\n测试集打分：%.4f\" % (model.score(X_train, y_train), model.score(X_test, y_test)))\n",
    "\n",
    "    y_pred = model.predict(X_test)\n",
    "    print(classification_report(y_test, y_pred, target_names=['flag=0', 'flag=1']))\n",
    "    return y_pred\n",
    "\n",
    "def work(X, y, type):\n",
    "    # 分割数据集\n",
    "    X_train, X_test, y_train, y_test = train_test_split(X, y, test_size = 0.3, random_state = 100)\n",
    "    # 训练模型\n",
    "    model = LogisticRegression()\n",
    "    model.fit(X_train, y_train)\n",
    "    # 模型评估\n",
    "    print(type)\n",
    "    print(\"\\n\")\n",
    "    y_pred = evaluation_model(model, X_train, y_train, X_test, y_test)\n",
    "\n",
    "    # ROC/AUC评估\n",
    "    plot_roc_curve_auc(model, X_test, y_test)\n",
    "\n",
    "    return model, X_train, X_test, y_train, y_test, y_pred"
   ]
  },
  {
   "cell_type": "code",
   "execution_count": 97,
   "metadata": {},
   "outputs": [
    {
     "name": "stdout",
     "output_type": "stream",
     "text": [
      "原始模型\n",
      "\n",
      "\n",
      "训练集打分：0.8813\n",
      "测试集打分：0.8859\n",
      "              precision    recall  f1-score   support\n",
      "\n",
      "      flag=0       0.89      1.00      0.94      6733\n",
      "      flag=1       0.45      0.02      0.04       863\n",
      "\n",
      "    accuracy                           0.89      7596\n",
      "   macro avg       0.67      0.51      0.49      7596\n",
      "weighted avg       0.84      0.89      0.84      7596\n",
      "\n"
     ]
    },
    {
     "data": {
      "image/png": "[encoded data removed]",
      "text/plain": [
       "<Figure size 432x288 with 1 Axes>"
      ]
     },
     "metadata": {
      "needs_background": "light"
     },
     "output_type": "display_data"
    },
    {
     "name": "stdout",
     "output_type": "stream",
     "text": [
      "AUC=0.7139\n",
      "参数 age_range_>65 : 1.069  概率比值 2.912\n",
      "参数 coupon_used_in_last_month : 0.409  概率比值 1.505\n",
      "参数 job_retired : 0.221  概率比值 1.247\n",
      "参数 job_student : 0.461  概率比值 1.585\n",
      "参数 marital_single : 0.262  概率比值 1.300\n",
      "参数 marital_married : -0.001  概率比值 0.999\n",
      "参数 loan_yes : -0.471  概率比值 0.624\n",
      "参数 job_blue-collar : -0.300  概率比值 0.741\n",
      "参数 coupon_used_in_last6_month : -0.154  概率比值 0.858\n",
      "参数 returned_yes : -0.835  概率比值 0.434\n",
      "参数 intercept : -1.437  概率比值 0.238\n"
     ]
    }
   ],
   "source": [
    "# 原始模型\n",
    "LR, X_train, X_test, y_train, y_test, y_pred = work(X, y, \"原始模型\")\n",
    "\n",
    "# 模型参数\n",
    "for a, b in zip(np.append(var, 'intercept'), np.append(LR.coef_, LR.intercept_)):\n",
    "    print(\"参数 %s : %.3f  概率比值 %.3f\" % (a, b, np.exp(b)))\n",
    "\n",
    "\n",
    "# 保存数据\n",
    "names.append('initial')\n",
    "scores_train.append(LR.score(X_train, y_train))\n",
    "scores_test.append(LR.score(X_test, y_test))\n",
    "precisions.append(metrics.precision_score(y_test, y_pred)) #只看flag=1\n",
    "recalls.append(metrics.recall_score(y_test, y_pred)) #只看flag=1\n",
    "f1.append(metrics.f1_score(y_test, y_pred)) #只看flag=1\n",
    "auc.append(metrics.auc(fpr, tpr))"
   ]
  },
  {
   "cell_type": "markdown",
   "metadata": {},
   "source": [
    "- AUC分数 还可以\n",
    "- flag=1召回率极低\n",
    "- 需要考虑数据不均衡性"
   ]
  },
  {
   "cell_type": "markdown",
   "metadata": {},
   "source": [
    "# 6. 模型优化"
   ]
  },
  {
   "cell_type": "code",
   "execution_count": 69,
   "metadata": {
    "scrolled": false
   },
   "outputs": [
    {
     "name": "stdout",
     "output_type": "stream",
     "text": [
      "增加测试集的比例：\n",
      "\n",
      "\n",
      "训练集打分：0.8839\n",
      "测试集打分：0.8802\n",
      "              precision    recall  f1-score   support\n",
      "\n",
      "      flag=0       0.88      1.00      0.94     11162\n",
      "      flag=1       0.38      0.02      0.04      1497\n",
      "\n",
      "    accuracy                           0.88     12659\n",
      "   macro avg       0.63      0.51      0.49     12659\n",
      "weighted avg       0.82      0.88      0.83     12659\n",
      "\n"
     ]
    },
    {
     "data": {
      "image/png": "[encoded data removed]",
      "text/plain": [
       "<Figure size 432x288 with 1 Axes>"
      ]
     },
     "metadata": {
      "needs_background": "light"
     },
     "output_type": "display_data"
    },
    {
     "name": "stdout",
     "output_type": "stream",
     "text": [
      "AUC=0.7078\n"
     ]
    }
   ],
   "source": [
    "# 1. 增加测试集的比例\n",
    "# 分割数据集\n",
    "X_train, X_test, y_train, y_test = train_test_split(X, y, test_size = 0.5, random_state = 100)\n",
    "\n",
    "# 训练模型\n",
    "LR = LogisticRegression()\n",
    "LR.fit(X_train, y_train)\n",
    "\n",
    "# 模型评估\n",
    "print(\"增加测试集的比例：\")\n",
    "print(\"\\n\")\n",
    "y_pred = evaluation_model(LR, X_train, y_train, X_test, y_test)\n",
    "\n",
    "# ROC/AUC评估\n",
    "plot_roc_curve_auc(LR, X_test, y_test)\n",
    "\n",
    "# 保存数据\n",
    "names.append('+ test_size')\n",
    "scores_train.append(LR.score(X_train, y_train))\n",
    "scores_test.append(LR.score(X_test, y_test))\n",
    "precisions.append(metrics.precision_score(y_test, y_pred)) #只看flag=1\n",
    "recalls.append(metrics.recall_score(y_test, y_pred)) #只看flag=1\n",
    "f1.append(metrics.f1_score(y_test, y_pred)) #只看flag=1\n",
    "auc.append(metrics.auc(fpr, tpr))"
   ]
  },
  {
   "cell_type": "markdown",
   "metadata": {},
   "source": [
    "- 增加测试集比例，反而打分下降，舍弃"
   ]
  },
  {
   "cell_type": "code",
   "execution_count": 70,
   "metadata": {},
   "outputs": [
    {
     "name": "stdout",
     "output_type": "stream",
     "text": [
      "改变自变量（threshold=0.01）：\n",
      "\n",
      "\n",
      "训练集打分：0.8808\n",
      "测试集打分：0.8855\n",
      "              precision    recall  f1-score   support\n",
      "\n",
      "      flag=0       0.89      1.00      0.94      6733\n",
      "      flag=1       0.42      0.02      0.04       863\n",
      "\n",
      "    accuracy                           0.89      7596\n",
      "   macro avg       0.65      0.51      0.49      7596\n",
      "weighted avg       0.83      0.89      0.84      7596\n",
      "\n"
     ]
    },
    {
     "data": {
      "image/png": "[encoded data removed]",
      "text/plain": [
       "<Figure size 432x288 with 1 Axes>"
      ]
     },
     "metadata": {
      "needs_background": "light"
     },
     "output_type": "display_data"
    },
    {
     "name": "stdout",
     "output_type": "stream",
     "text": [
      "AUC=0.7141\n"
     ]
    }
   ],
   "source": [
    "# 2. 改变自变量\n",
    "\n",
    "# 2.1 定义自变量，提取相关性系数大于±0.01的变量\n",
    "threshold = 0.01\n",
    "tmp = pdd_clean.corr()[['flag']].sort_values('flag', ascending=False)\n",
    "var = tmp.where(np.abs(tmp)>threshold).dropna(how='any').index.values\n",
    "var = var[1:]\n",
    "X = pdd_clean[var].drop(['age', 'coupon_last6_range_>=10'], axis=1)\n",
    "y = pdd_clean['flag']\n",
    "\n",
    "\n",
    "LR, X_train, X_test, y_train, y_test, y_pred = work(X, y, \"改变自变量\")\n",
    "\n",
    "\n",
    "# 保存数据\n",
    "names.append('+ X1')\n",
    "scores_train.append(LR.score(X_train, y_train))\n",
    "scores_test.append(LR.score(X_test, y_test))\n",
    "precisions.append(metrics.precision_score(y_test, y_pred)) #只看flag=1\n",
    "recalls.append(metrics.recall_score(y_test, y_pred)) #只看flag=1\n",
    "f1.append(metrics.f1_score(y_test, y_pred)) #只看flag=1\n",
    "auc.append(metrics.auc(fpr, tpr))"
   ]
  },
  {
   "cell_type": "markdown",
   "metadata": {},
   "source": [
    "- 扩大自变量范围，没什么变化"
   ]
  },
  {
   "cell_type": "code",
   "execution_count": 71,
   "metadata": {},
   "outputs": [
    {
     "name": "stdout",
     "output_type": "stream",
     "text": [
      "改变自变量（all）：\n",
      "\n",
      "\n",
      "训练集打分：0.8809\n",
      "测试集打分：0.8855\n",
      "              precision    recall  f1-score   support\n",
      "\n",
      "      flag=0       0.89      1.00      0.94      6733\n",
      "      flag=1       0.42      0.02      0.04       863\n",
      "\n",
      "    accuracy                           0.89      7596\n",
      "   macro avg       0.65      0.51      0.49      7596\n",
      "weighted avg       0.83      0.89      0.84      7596\n",
      "\n"
     ]
    },
    {
     "data": {
      "image/png": "[encoded data removed]",
      "text/plain": [
       "<Figure size 432x288 with 1 Axes>"
      ]
     },
     "metadata": {
      "needs_background": "light"
     },
     "output_type": "display_data"
    },
    {
     "name": "stdout",
     "output_type": "stream",
     "text": [
      "AUC=0.7140\n"
     ]
    }
   ],
   "source": [
    "# 2.2 放入全部变量\n",
    "\n",
    "X = pdd_clean.drop(['flag', 'age', 'coupon_last6_range_>=10'], axis=1)\n",
    "y = pdd_clean['flag']\n",
    "\n",
    "\n",
    "LR, X_train, X_test, y_train, y_test, y_pred = work(X, y, \"放入全部变量\")\n",
    "\n",
    "\n",
    "\n",
    "# 保存数据\n",
    "names.append('+ X2')\n",
    "scores_train.append(LR.score(X_train, y_train))\n",
    "scores_test.append(LR.score(X_test, y_test))\n",
    "precisions.append(metrics.precision_score(y_test, y_pred)) #只看flag=1\n",
    "recalls.append(metrics.recall_score(y_test, y_pred)) #只看flag=1\n",
    "f1.append(metrics.f1_score(y_test, y_pred)) #只看flag=1\n",
    "auc.append(metrics.auc(fpr, tpr))"
   ]
  },
  {
   "cell_type": "markdown",
   "metadata": {},
   "source": [
    "- 放入全部变量，打分略有下降"
   ]
  },
  {
   "cell_type": "code",
   "execution_count": 72,
   "metadata": {},
   "outputs": [
    {
     "name": "stdout",
     "output_type": "stream",
     "text": [
      "数据标准化：\n",
      "\n",
      "\n",
      "训练集打分：0.8813\n",
      "测试集打分：0.8859\n",
      "              precision    recall  f1-score   support\n",
      "\n",
      "      flag=0       0.89      1.00      0.94      6733\n",
      "      flag=1       0.45      0.02      0.04       863\n",
      "\n",
      "    accuracy                           0.89      7596\n",
      "   macro avg       0.67      0.51      0.49      7596\n",
      "weighted avg       0.84      0.89      0.84      7596\n",
      "\n"
     ]
    },
    {
     "data": {
      "image/png": "[encoded data removed]",
      "text/plain": [
       "<Figure size 432x288 with 1 Axes>"
      ]
     },
     "metadata": {
      "needs_background": "light"
     },
     "output_type": "display_data"
    },
    {
     "name": "stdout",
     "output_type": "stream",
     "text": [
      "AUC=0.7134\n"
     ]
    }
   ],
   "source": [
    "# 3. 数据标准化\n",
    "\n",
    "# 定义自变量，提取相关性系数大于±0.05的变量\n",
    "threshold = 0.05\n",
    "tmp = pdd_clean.corr()[['flag']].sort_values('flag', ascending=False)\n",
    "var = tmp.where(np.abs(tmp)>threshold).dropna(how='any').index.values\n",
    "var = var[1:]\n",
    "X = pdd_clean[var]\n",
    "y = pdd_clean['flag']\n",
    "\n",
    "# 分割数据集\n",
    "X_train, X_test, y_train, y_test = train_test_split(X, y, test_size = 0.3, random_state = 100)\n",
    "ss = StandardScaler()\n",
    "X_train = ss.fit_transform(X_train)\n",
    "X_test = ss.transform(X_test)\n",
    "\n",
    "# 训练模型\n",
    "LR = LogisticRegression()\n",
    "LR.fit(X_train, y_train)\n",
    "\n",
    "# 模型评估\n",
    "print(\"数据标准化：\")\n",
    "print(\"\\n\")\n",
    "y_pred = evaluation_model(LR, X_train, y_train, X_test, y_test)\n",
    "\n",
    "# ROC/AUC评估\n",
    "plot_roc_curve_auc(LR, X_test, y_test)\n",
    "\n",
    "# 保存数据\n",
    "names.append('+ standalization')\n",
    "scores_train.append(LR.score(X_train, y_train))\n",
    "scores_test.append(LR.score(X_test, y_test))\n",
    "precisions.append(metrics.precision_score(y_test, y_pred)) #只看flag=1\n",
    "recalls.append(metrics.recall_score(y_test, y_pred)) #只看flag=1\n",
    "f1.append(metrics.f1_score(y_test, y_pred)) #只看flag=1\n",
    "auc.append(metrics.auc(fpr, tpr))"
   ]
  },
  {
   "cell_type": "markdown",
   "metadata": {},
   "source": [
    "- flag=1 精确度有小幅提高"
   ]
  },
  {
   "cell_type": "code",
   "execution_count": 73,
   "metadata": {},
   "outputs": [
    {
     "name": "stdout",
     "output_type": "stream",
     "text": [
      "SMOTE算法：\n",
      "\n",
      "\n",
      "训练集打分：0.6471\n",
      "测试集打分：0.6583\n",
      "              precision    recall  f1-score   support\n",
      "\n",
      "      flag=0       0.65      0.69      0.67      6689\n",
      "      flag=1       0.67      0.63      0.65      6725\n",
      "\n",
      "    accuracy                           0.66     13414\n",
      "   macro avg       0.66      0.66      0.66     13414\n",
      "weighted avg       0.66      0.66      0.66     13414\n",
      "\n"
     ]
    },
    {
     "data": {
      "image/png": "[encoded data removed]",
      "text/plain": [
       "<Figure size 432x288 with 1 Axes>"
      ]
     },
     "metadata": {
      "needs_background": "light"
     },
     "output_type": "display_data"
    },
    {
     "name": "stdout",
     "output_type": "stream",
     "text": [
      "AUC=0.7139\n"
     ]
    }
   ],
   "source": [
    "# 4.1 SMOTE算法（上采样）\n",
    "\n",
    "# 定义自变量，提取相关性系数大于±0.05的变量\n",
    "threshold = 0.05\n",
    "tmp = pdd_clean.corr()[['flag']].sort_values('flag', ascending=False)\n",
    "var = tmp.where(np.abs(tmp)>threshold).dropna(how='any').index.values\n",
    "var = var[1:]\n",
    "X = pdd_clean[var]\n",
    "y = pdd_clean['flag']\n",
    "\n",
    "# SMOTE算法\n",
    "from imblearn.over_sampling import SMOTE\n",
    "smo = SMOTE(random_state=100) \n",
    "X_smo, y_smo = smo.fit_sample(X, y)\n",
    "\n",
    "\n",
    "LR, X_train, X_test, y_train, y_test, y_pred = work(X_smo, y_smo, \"SMOTE算法\")\n",
    "\n",
    "# 保存数据\n",
    "names.append('+ SMOTE')\n",
    "scores_train.append(LR.score(X_train, y_train))\n",
    "scores_test.append(LR.score(X_test, y_test))\n",
    "precisions.append(metrics.precision_score(y_test, y_pred)) #只看flag=1\n",
    "recalls.append(metrics.recall_score(y_test, y_pred)) #只看flag=1\n",
    "f1.append(metrics.f1_score(y_test, y_pred)) #只看flag=1\n",
    "auc.append(metrics.auc(fpr, tpr))"
   ]
  },
  {
   "cell_type": "code",
   "execution_count": 74,
   "metadata": {},
   "outputs": [
    {
     "name": "stdout",
     "output_type": "stream",
     "text": [
      "RandomOverSampler算法：\n",
      "\n",
      "\n",
      "训练集打分：0.6487\n",
      "测试集打分：0.6501\n",
      "              precision    recall  f1-score   support\n",
      "\n",
      "      flag=0       0.64      0.68      0.66      6689\n",
      "      flag=1       0.66      0.62      0.64      6725\n",
      "\n",
      "    accuracy                           0.65     13414\n",
      "   macro avg       0.65      0.65      0.65     13414\n",
      "weighted avg       0.65      0.65      0.65     13414\n",
      "\n"
     ]
    },
    {
     "data": {
      "image/png": "[encoded data removed]",
      "text/plain": [
       "<Figure size 432x288 with 1 Axes>"
      ]
     },
     "metadata": {
      "needs_background": "light"
     },
     "output_type": "display_data"
    },
    {
     "name": "stdout",
     "output_type": "stream",
     "text": [
      "AUC=0.7068\n"
     ]
    }
   ],
   "source": [
    "# 4.2 RandomOverSampler（上采样）\n",
    "\n",
    "# 定义自变量，提取相关性系数大于±0.05的变量\n",
    "threshold = 0.05\n",
    "tmp = pdd_clean.corr()[['flag']].sort_values('flag', ascending=False)\n",
    "var = tmp.where(np.abs(tmp)>threshold).dropna(how='any').index.values\n",
    "var = var[1:]\n",
    "X = pdd_clean[var]\n",
    "y = pdd_clean['flag']\n",
    "\n",
    "# RandomOverSampler算法\n",
    "from imblearn.over_sampling import RandomOverSampler\n",
    "ros = RandomOverSampler(random_state=100) \n",
    "X_ros, y_ros = ros.fit_sample(X, y)\n",
    "\n",
    "LR, X_train, X_test, y_train, y_test, y_pred = work(X_ros, y_ros, \"RandomOverSampler算法\")\n",
    "\n",
    "# 保存数据\n",
    "names.append('+ RandomOverSampler')\n",
    "scores_train.append(LR.score(X_train, y_train))\n",
    "scores_test.append(LR.score(X_test, y_test))\n",
    "precisions.append(metrics.precision_score(y_test, y_pred)) #只看flag=1\n",
    "recalls.append(metrics.recall_score(y_test, y_pred)) #只看flag=1\n",
    "f1.append(metrics.f1_score(y_test, y_pred)) #只看flag=1\n",
    "auc.append(metrics.auc(fpr, tpr))"
   ]
  },
  {
   "cell_type": "code",
   "execution_count": 75,
   "metadata": {},
   "outputs": [
    {
     "name": "stdout",
     "output_type": "stream",
     "text": [
      "RandomUnderSampler：\n",
      "\n",
      "\n",
      "训练集打分：0.6495\n",
      "测试集打分：0.6320\n",
      "              precision    recall  f1-score   support\n",
      "\n",
      "      flag=0       0.64      0.63      0.64       906\n",
      "      flag=1       0.62      0.63      0.63       871\n",
      "\n",
      "    accuracy                           0.63      1777\n",
      "   macro avg       0.63      0.63      0.63      1777\n",
      "weighted avg       0.63      0.63      0.63      1777\n",
      "\n"
     ]
    },
    {
     "data": {
      "image/png": "[encoded data removed]",
      "text/plain": [
       "<Figure size 432x288 with 1 Axes>"
      ]
     },
     "metadata": {
      "needs_background": "light"
     },
     "output_type": "display_data"
    },
    {
     "name": "stdout",
     "output_type": "stream",
     "text": [
      "AUC=0.6894\n"
     ]
    }
   ],
   "source": [
    "# 4.3 RandomUnderSampler算法（下采样）\n",
    "\n",
    "# 定义自变量，提取相关性系数大于±0.05的变量\n",
    "threshold = 0.05\n",
    "tmp = pdd_clean.corr()[['flag']].sort_values('flag', ascending=False)\n",
    "var = tmp.where(np.abs(tmp)>threshold).dropna(how='any').index.values\n",
    "var = var[1:]\n",
    "X = pdd_clean[var]\n",
    "y = pdd_clean['flag']\n",
    "\n",
    "# RandomUnderSampler算法\n",
    "from imblearn.under_sampling import RandomUnderSampler\n",
    "rus = RandomUnderSampler(random_state = 100)\n",
    "X_rus, y_rus = rus.fit_sample(X, y)\n",
    "\n",
    "LR, X_train, X_test, y_train, y_test, y_pred = work(X_rus, y_rus, \"RandomUnderSampler算法\")\n",
    "\n",
    "\n",
    "# 保存数据\n",
    "names.append('+ RandomUnderSampler')\n",
    "scores_train.append(LR.score(X_train, y_train))\n",
    "scores_test.append(LR.score(X_test, y_test))\n",
    "precisions.append(metrics.precision_score(y_test, y_pred)) #只看flag=1\n",
    "recalls.append(metrics.recall_score(y_test, y_pred)) #只看flag=1\n",
    "f1.append(metrics.f1_score(y_test, y_pred)) #只看flag=1\n",
    "auc.append(metrics.auc(fpr, tpr))"
   ]
  },
  {
   "cell_type": "code",
   "execution_count": 76,
   "metadata": {},
   "outputs": [
    {
     "name": "stdout",
     "output_type": "stream",
     "text": [
      "RENN：\n",
      "\n",
      "\n",
      "训练集打分：0.8475\n",
      "测试集打分：0.8418\n",
      "              precision    recall  f1-score   support\n",
      "\n",
      "      flag=0       0.85      0.98      0.91      4768\n",
      "      flag=1       0.54      0.11      0.19       914\n",
      "\n",
      "    accuracy                           0.84      5682\n",
      "   macro avg       0.70      0.55      0.55      5682\n",
      "weighted avg       0.80      0.84      0.80      5682\n",
      "\n"
     ]
    },
    {
     "data": {
      "image/png": "[encoded data removed]",
      "text/plain": [
       "<Figure size 432x288 with 1 Axes>"
      ]
     },
     "metadata": {
      "needs_background": "light"
     },
     "output_type": "display_data"
    },
    {
     "name": "stdout",
     "output_type": "stream",
     "text": [
      "AUC=0.7376\n"
     ]
    }
   ],
   "source": [
    "# 4.4 RENN算法（下采样）\n",
    "\n",
    "# 定义自变量，提取相关性系数大于±0.05的变量\n",
    "threshold = 0.05\n",
    "tmp = pdd_clean.corr()[['flag']].sort_values('flag', ascending=False)\n",
    "var = tmp.where(np.abs(tmp)>threshold).dropna(how='any').index.values\n",
    "var = var[1:]\n",
    "X = pdd_clean[var]\n",
    "y = pdd_clean['flag']\n",
    "\n",
    "# RepeatedEditedNearestNeighbours算法\n",
    "from imblearn.under_sampling import RepeatedEditedNearestNeighbours\n",
    "renn = RepeatedEditedNearestNeighbours(random_state = 100)\n",
    "X_renn, y_renn = renn.fit_sample(X, y)\n",
    "\n",
    "LR, X_train, X_test, y_train, y_test, y_pred = work(X_renn, y_renn, \"RENN算法\")\n",
    "\n",
    "\n",
    "\n",
    "# 保存数据\n",
    "names.append('+ RENN')\n",
    "scores_train.append(LR.score(X_train, y_train))\n",
    "scores_test.append(LR.score(X_test, y_test))\n",
    "precisions.append(metrics.precision_score(y_test, y_pred)) #只看flag=1\n",
    "recalls.append(metrics.recall_score(y_test, y_pred)) #只看flag=1\n",
    "f1.append(metrics.f1_score(y_test, y_pred)) #只看flag=1\n",
    "auc.append(metrics.auc(fpr, tpr))"
   ]
  },
  {
   "cell_type": "code",
   "execution_count": 77,
   "metadata": {},
   "outputs": [
    {
     "name": "stdout",
     "output_type": "stream",
     "text": [
      "NearMiss：\n",
      "\n",
      "\n",
      "训练集打分：0.9575\n",
      "测试集打分：0.9651\n",
      "              precision    recall  f1-score   support\n",
      "\n",
      "      flag=0       0.94      1.00      0.97       906\n",
      "      flag=1       1.00      0.93      0.96       871\n",
      "\n",
      "    accuracy                           0.97      1777\n",
      "   macro avg       0.97      0.96      0.97      1777\n",
      "weighted avg       0.97      0.97      0.97      1777\n",
      "\n"
     ]
    },
    {
     "data": {
      "image/png": "[encoded data removed]",
      "text/plain": [
       "<Figure size 432x288 with 1 Axes>"
      ]
     },
     "metadata": {
      "needs_background": "light"
     },
     "output_type": "display_data"
    },
    {
     "name": "stdout",
     "output_type": "stream",
     "text": [
      "AUC=0.9725\n"
     ]
    }
   ],
   "source": [
    "# 4.5 NearMiss（下采样）\n",
    "\n",
    "# 定义自变量，提取相关性系数大于±0.05的变量\n",
    "threshold = 0.05\n",
    "tmp = pdd_clean.corr()[['flag']].sort_values('flag', ascending=False)\n",
    "var = tmp.where(np.abs(tmp)>threshold).dropna(how='any').index.values\n",
    "var = var[1:]\n",
    "X = pdd_clean[var]\n",
    "y = pdd_clean['flag']\n",
    "\n",
    "# NearMiss算法\n",
    "from imblearn.under_sampling import NearMiss\n",
    "nm1 = NearMiss(version=2) #选取正例样本中与N个最远邻负样本平均距离最短的样本\n",
    "X_nm1, y_nm1 = nm1.fit_sample(X, y)\n",
    "\n",
    "LR, X_train, X_test, y_train, y_test, y_pred = work(X_nm1, y_nm1, \"NearMiss算法\")\n",
    "\n",
    "# 保存数据\n",
    "names.append('+ NearMiss[v2]')\n",
    "scores_train.append(LR.score(X_train, y_train))\n",
    "scores_test.append(LR.score(X_test, y_test))\n",
    "precisions.append(metrics.precision_score(y_test, y_pred)) #只看flag=1\n",
    "recalls.append(metrics.recall_score(y_test, y_pred)) #只看flag=1\n",
    "f1.append(metrics.f1_score(y_test, y_pred)) #只看flag=1\n",
    "auc.append(metrics.auc(fpr, tpr))"
   ]
  },
  {
   "cell_type": "code",
   "execution_count": 78,
   "metadata": {},
   "outputs": [
    {
     "name": "stdout",
     "output_type": "stream",
     "text": [
      "SMOTEENN：\n",
      "\n",
      "\n",
      "训练集打分：0.9306\n",
      "测试集打分：0.9237\n",
      "              precision    recall  f1-score   support\n",
      "\n",
      "      flag=0       0.93      0.97      0.95      4564\n",
      "      flag=1       0.88      0.72      0.79      1148\n",
      "\n",
      "    accuracy                           0.92      5712\n",
      "   macro avg       0.90      0.85      0.87      5712\n",
      "weighted avg       0.92      0.92      0.92      5712\n",
      "\n"
     ]
    },
    {
     "data": {
      "image/png": "[encoded data removed]",
      "text/plain": [
       "<Figure size 432x288 with 1 Axes>"
      ]
     },
     "metadata": {
      "needs_background": "light"
     },
     "output_type": "display_data"
    },
    {
     "name": "stdout",
     "output_type": "stream",
     "text": [
      "AUC=0.9101\n"
     ]
    }
   ],
   "source": [
    "# 4.6 SMOTEENN（组合算法）\n",
    "\n",
    "# 定义自变量，提取相关性系数大于±0.05的变量\n",
    "threshold = 0.05\n",
    "tmp = pdd_clean.corr()[['flag']].sort_values('flag', ascending=False)\n",
    "var = tmp.where(np.abs(tmp)>threshold).dropna(how='any').index.values\n",
    "var = var[1:]\n",
    "X = pdd_clean[var]\n",
    "y = pdd_clean['flag']\n",
    "\n",
    "# SMOTEENN算法\n",
    "from imblearn.combine import SMOTEENN\n",
    "smote_enn = SMOTEENN(random_state =100)\n",
    "X_smote_enn, y_smote_enn = smote_enn.fit_sample(X, y)\n",
    "\n",
    "LR, X_train, X_test, y_train, y_test, y_pred = work(X_smote_enn, y_smote_enn, \"SMOTEENN算法\")\n",
    "\n",
    "# 保存数据\n",
    "names.append('+ SMOTEENN')\n",
    "scores_train.append(LR.score(X_train, y_train))\n",
    "scores_test.append(LR.score(X_test, y_test))\n",
    "precisions.append(metrics.precision_score(y_test, y_pred)) #只看flag=1\n",
    "recalls.append(metrics.recall_score(y_test, y_pred)) #只看flag=1\n",
    "f1.append(metrics.f1_score(y_test, y_pred)) #只看flag=1\n",
    "auc.append(metrics.auc(fpr, tpr))"
   ]
  },
  {
   "cell_type": "code",
   "execution_count": 79,
   "metadata": {},
   "outputs": [
    {
     "name": "stdout",
     "output_type": "stream",
     "text": [
      "SMOTETomek：\n",
      "\n",
      "\n",
      "训练集打分：0.6503\n",
      "测试集打分：0.6519\n",
      "              precision    recall  f1-score   support\n",
      "\n",
      "      flag=0       0.65      0.68      0.66      6719\n",
      "      flag=1       0.66      0.63      0.64      6693\n",
      "\n",
      "    accuracy                           0.65     13412\n",
      "   macro avg       0.65      0.65      0.65     13412\n",
      "weighted avg       0.65      0.65      0.65     13412\n",
      "\n"
     ]
    },
    {
     "data": {
      "image/png": "[encoded data removed]",
      "text/plain": [
       "<Figure size 432x288 with 1 Axes>"
      ]
     },
     "metadata": {
      "needs_background": "light"
     },
     "output_type": "display_data"
    },
    {
     "name": "stdout",
     "output_type": "stream",
     "text": [
      "AUC=0.7071\n"
     ]
    }
   ],
   "source": [
    "# 4.7 SMOTETomek（组合算法）\n",
    "\n",
    "# 定义自变量，提取相关性系数大于±0.05的变量\n",
    "threshold = 0.05\n",
    "tmp = pdd_clean.corr()[['flag']].sort_values('flag', ascending=False)\n",
    "var = tmp.where(np.abs(tmp)>threshold).dropna(how='any').index.values\n",
    "var = var[1:]\n",
    "X = pdd_clean[var]\n",
    "y = pdd_clean['flag']\n",
    "\n",
    "# SMOTETomek\n",
    "from imblearn.combine import SMOTETomek\n",
    "smote_tomek = SMOTETomek(random_state =100)\n",
    "X_smote_tomek, y_smote_tomek = smote_tomek.fit_sample(X, y)\n",
    "\n",
    "LR, X_train, X_test, y_train, y_test, y_pred = work(X_smote_tomek, y_smote_tomek, \"SMOTETomek\")\n",
    "\n",
    "# 保存数据\n",
    "names.append('+ SMOTETomek')\n",
    "scores_train.append(LR.score(X_train, y_train))\n",
    "scores_test.append(LR.score(X_test, y_test))\n",
    "precisions.append(metrics.precision_score(y_test, y_pred)) #只看flag=1\n",
    "recalls.append(metrics.recall_score(y_test, y_pred)) #只看flag=1\n",
    "f1.append(metrics.f1_score(y_test, y_pred)) #只看flag=1\n",
    "auc.append(metrics.auc(fpr, tpr))"
   ]
  },
  {
   "cell_type": "markdown",
   "metadata": {},
   "source": [
    "- 对比选择NearMiss算法"
   ]
  },
  {
   "cell_type": "code",
   "execution_count": 80,
   "metadata": {},
   "outputs": [
    {
     "name": "stdout",
     "output_type": "stream",
     "text": [
      "NearMiss算法+改变损失函数的权重：\n",
      "\n",
      "\n",
      "训练集打分：0.9575\n",
      "测试集打分：0.9651\n",
      "              precision    recall  f1-score   support\n",
      "\n",
      "      flag=0       0.94      1.00      0.97       906\n",
      "      flag=1       1.00      0.93      0.96       871\n",
      "\n",
      "    accuracy                           0.97      1777\n",
      "   macro avg       0.97      0.96      0.97      1777\n",
      "weighted avg       0.97      0.97      0.97      1777\n",
      "\n"
     ]
    },
    {
     "data": {
      "image/png": "[encoded data removed]",
      "text/plain": [
       "<Figure size 432x288 with 1 Axes>"
      ]
     },
     "metadata": {
      "needs_background": "light"
     },
     "output_type": "display_data"
    },
    {
     "name": "stdout",
     "output_type": "stream",
     "text": [
      "AUC=0.9725\n"
     ]
    }
   ],
   "source": [
    "# 5. NearMiss算法+改变损失函数的权重\n",
    "\n",
    "# 定义自变量，提取相关性系数大于±0.05的变量\n",
    "threshold = 0.05\n",
    "tmp = pdd_clean.corr()[['flag']].sort_values('flag', ascending=False)\n",
    "var = tmp.where(np.abs(tmp)>threshold).dropna(how='any').index.values\n",
    "var = var[1:]\n",
    "X = pdd_clean[var]\n",
    "y = pdd_clean['flag']\n",
    "\n",
    "# NearMiss算法\n",
    "from imblearn.under_sampling import NearMiss\n",
    "nm1 = NearMiss(version=2) #选取正例样本中与N个最远邻负样本平均距离最短的样本\n",
    "X_nm1, y_nm1 = nm1.fit_sample(X, y)\n",
    "\n",
    "LR, X_train, X_test, y_train, y_test, y_pred = work(X_nm1, y_nm1, \"NearMiss算法+改变损失函数的权重\")\n",
    "\n",
    "# 保存数据\n",
    "names.append('+ NearMiss[v2] + balanced')\n",
    "scores_train.append(LR.score(X_train, y_train))\n",
    "scores_test.append(LR.score(X_test, y_test))\n",
    "precisions.append(metrics.precision_score(y_test, y_pred)) #只看flag=1\n",
    "recalls.append(metrics.recall_score(y_test, y_pred)) #只看flag=1\n",
    "f1.append(metrics.f1_score(y_test, y_pred)) #只看flag=1\n",
    "auc.append(metrics.auc(fpr, tpr))"
   ]
  },
  {
   "cell_type": "markdown",
   "metadata": {},
   "source": [
    "- 无变化，舍弃"
   ]
  },
  {
   "cell_type": "code",
   "execution_count": 81,
   "metadata": {},
   "outputs": [
    {
     "name": "stdout",
     "output_type": "stream",
     "text": [
      "NearMiss算法+改变损失函数的权重+改变正则化规则：\n",
      "\n",
      "\n",
      "训练集打分：0.9575\n",
      "测试集打分：0.9651\n",
      "              precision    recall  f1-score   support\n",
      "\n",
      "      flag=0       0.94      1.00      0.97       906\n",
      "      flag=1       1.00      0.93      0.96       871\n",
      "\n",
      "    accuracy                           0.97      1777\n",
      "   macro avg       0.97      0.96      0.97      1777\n",
      "weighted avg       0.97      0.97      0.97      1777\n",
      "\n"
     ]
    },
    {
     "data": {
      "image/png": "[encoded data removed]",
      "text/plain": [
       "<Figure size 432x288 with 1 Axes>"
      ]
     },
     "metadata": {
      "needs_background": "light"
     },
     "output_type": "display_data"
    },
    {
     "name": "stdout",
     "output_type": "stream",
     "text": [
      "AUC=0.9725\n"
     ]
    }
   ],
   "source": [
    "# 6. NearMiss算法+改变损失函数的权重+改变正则化规则\n",
    "\n",
    "# 定义自变量，提取相关性系数大于±0.05的变量\n",
    "threshold = 0.05\n",
    "tmp = pdd_clean.corr()[['flag']].sort_values('flag', ascending=False)\n",
    "var = tmp.where(np.abs(tmp)>threshold).dropna(how='any').index.values\n",
    "var = var[1:]\n",
    "X = pdd_clean[var]\n",
    "y = pdd_clean['flag']\n",
    "\n",
    "# NearMiss算法\n",
    "from imblearn.under_sampling import NearMiss\n",
    "nm1 = NearMiss(version=2) #选取正例样本中与N个最远邻负样本平均距离最短的样本\n",
    "X_nm1, y_nm1 = nm1.fit_sample(X, y)\n",
    "\n",
    "LR, X_train, X_test, y_train, y_test, y_pred = work(X_nm1, y_nm1, \"NearMiss算法+改变损失函数的权重+改变正则化规则\")\n",
    "\n",
    "# 保存数据\n",
    "names.append('+ NearMiss[v2] + balanced + L1reg')\n",
    "scores_train.append(LR.score(X_train, y_train))\n",
    "scores_test.append(LR.score(X_test, y_test))\n",
    "precisions.append(metrics.precision_score(y_test, y_pred)) #只看flag=1\n",
    "recalls.append(metrics.recall_score(y_test, y_pred)) #只看flag=1\n",
    "f1.append(metrics.f1_score(y_test, y_pred)) #只看flag=1\n",
    "auc.append(metrics.auc(fpr, tpr))"
   ]
  },
  {
   "cell_type": "markdown",
   "metadata": {},
   "source": [
    "- 无变化，舍弃"
   ]
  },
  {
   "cell_type": "code",
   "execution_count": 82,
   "metadata": {},
   "outputs": [],
   "source": [
    "# 可视化所有方案并对比选择\n",
    "data = pd.DataFrame({'plans' : names, 'scores_train' : scores_train, 'scores_test' : scores_test, 'precisions' : precisions, 'recalls' : recalls, 'f1-scores' : f1, 'AUC' : auc})"
   ]
  },
  {
   "cell_type": "code",
   "execution_count": 83,
   "metadata": {},
   "outputs": [
    {
     "data": {
      "text/html": [
       "<div>\n",
       "<style scoped>\n",
       "    .dataframe tbody tr th:only-of-type {\n",
       "        vertical-align: middle;\n",
       "    }\n",
       "\n",
       "    .dataframe tbody tr th {\n",
       "        vertical-align: top;\n",
       "    }\n",
       "\n",
       "    .dataframe thead th {\n",
       "        text-align: right;\n",
       "    }\n",
       "</style>\n",
       "<table border=\"1\" class=\"dataframe\">\n",
       "  <thead>\n",
       "    <tr style=\"text-align: right;\">\n",
       "      <th></th>\n",
       "      <th>plans</th>\n",
       "      <th>scores_train</th>\n",
       "      <th>scores_test</th>\n",
       "      <th>precisions</th>\n",
       "      <th>recalls</th>\n",
       "      <th>f1-scores</th>\n",
       "      <th>AUC</th>\n",
       "    </tr>\n",
       "  </thead>\n",
       "  <tbody>\n",
       "    <tr>\n",
       "      <th>0</th>\n",
       "      <td>initial</td>\n",
       "      <td>0.880819</td>\n",
       "      <td>0.885466</td>\n",
       "      <td>0.418605</td>\n",
       "      <td>0.020857</td>\n",
       "      <td>0.039735</td>\n",
       "      <td>0.714068</td>\n",
       "    </tr>\n",
       "    <tr>\n",
       "      <th>1</th>\n",
       "      <td>+ test_size</td>\n",
       "      <td>0.883947</td>\n",
       "      <td>0.880164</td>\n",
       "      <td>0.383721</td>\n",
       "      <td>0.022044</td>\n",
       "      <td>0.041693</td>\n",
       "      <td>0.714068</td>\n",
       "    </tr>\n",
       "    <tr>\n",
       "      <th>2</th>\n",
       "      <td>+ X1</td>\n",
       "      <td>0.880819</td>\n",
       "      <td>0.885466</td>\n",
       "      <td>0.418605</td>\n",
       "      <td>0.020857</td>\n",
       "      <td>0.039735</td>\n",
       "      <td>0.714068</td>\n",
       "    </tr>\n",
       "    <tr>\n",
       "      <th>3</th>\n",
       "      <td>+ X2</td>\n",
       "      <td>0.880876</td>\n",
       "      <td>0.885466</td>\n",
       "      <td>0.418605</td>\n",
       "      <td>0.020857</td>\n",
       "      <td>0.039735</td>\n",
       "      <td>0.714068</td>\n",
       "    </tr>\n",
       "    <tr>\n",
       "      <th>4</th>\n",
       "      <td>+ standalization</td>\n",
       "      <td>0.881271</td>\n",
       "      <td>0.885861</td>\n",
       "      <td>0.454545</td>\n",
       "      <td>0.023175</td>\n",
       "      <td>0.044101</td>\n",
       "      <td>0.714068</td>\n",
       "    </tr>\n",
       "    <tr>\n",
       "      <th>5</th>\n",
       "      <td>+ SMOTE</td>\n",
       "      <td>0.647070</td>\n",
       "      <td>0.658267</td>\n",
       "      <td>0.668929</td>\n",
       "      <td>0.630335</td>\n",
       "      <td>0.649058</td>\n",
       "      <td>0.714068</td>\n",
       "    </tr>\n",
       "    <tr>\n",
       "      <th>6</th>\n",
       "      <td>+ RandomOverSampler</td>\n",
       "      <td>0.648732</td>\n",
       "      <td>0.650067</td>\n",
       "      <td>0.659595</td>\n",
       "      <td>0.624089</td>\n",
       "      <td>0.641351</td>\n",
       "      <td>0.714068</td>\n",
       "    </tr>\n",
       "    <tr>\n",
       "      <th>7</th>\n",
       "      <td>+ RandomUnderSampler</td>\n",
       "      <td>0.649457</td>\n",
       "      <td>0.631964</td>\n",
       "      <td>0.622047</td>\n",
       "      <td>0.634902</td>\n",
       "      <td>0.628409</td>\n",
       "      <td>0.714068</td>\n",
       "    </tr>\n",
       "    <tr>\n",
       "      <th>8</th>\n",
       "      <td>+ RENN</td>\n",
       "      <td>0.847541</td>\n",
       "      <td>0.841781</td>\n",
       "      <td>0.538462</td>\n",
       "      <td>0.114880</td>\n",
       "      <td>0.189360</td>\n",
       "      <td>0.714068</td>\n",
       "    </tr>\n",
       "    <tr>\n",
       "      <th>9</th>\n",
       "      <td>+ NearMiss[v2]</td>\n",
       "      <td>0.957539</td>\n",
       "      <td>0.965110</td>\n",
       "      <td>0.995104</td>\n",
       "      <td>0.933410</td>\n",
       "      <td>0.963270</td>\n",
       "      <td>0.714068</td>\n",
       "    </tr>\n",
       "    <tr>\n",
       "      <th>10</th>\n",
       "      <td>+ SMOTEENN</td>\n",
       "      <td>0.930587</td>\n",
       "      <td>0.923669</td>\n",
       "      <td>0.876321</td>\n",
       "      <td>0.722125</td>\n",
       "      <td>0.791786</td>\n",
       "      <td>0.714068</td>\n",
       "    </tr>\n",
       "    <tr>\n",
       "      <th>11</th>\n",
       "      <td>+ SMOTETomek</td>\n",
       "      <td>0.650262</td>\n",
       "      <td>0.651879</td>\n",
       "      <td>0.659270</td>\n",
       "      <td>0.625878</td>\n",
       "      <td>0.642140</td>\n",
       "      <td>0.714068</td>\n",
       "    </tr>\n",
       "    <tr>\n",
       "      <th>12</th>\n",
       "      <td>+ NearMiss[v2] + balanced</td>\n",
       "      <td>0.957539</td>\n",
       "      <td>0.965110</td>\n",
       "      <td>0.995104</td>\n",
       "      <td>0.933410</td>\n",
       "      <td>0.963270</td>\n",
       "      <td>0.714068</td>\n",
       "    </tr>\n",
       "    <tr>\n",
       "      <th>13</th>\n",
       "      <td>+ NearMiss[v2] + balanced + L1reg</td>\n",
       "      <td>0.957539</td>\n",
       "      <td>0.965110</td>\n",
       "      <td>0.995104</td>\n",
       "      <td>0.933410</td>\n",
       "      <td>0.963270</td>\n",
       "      <td>0.714068</td>\n",
       "    </tr>\n",
       "  </tbody>\n",
       "</table>\n",
       "</div>"
      ],
      "text/plain": [
       "                                plans  scores_train  scores_test  precisions  \\\n",
       "0                             initial      0.880819     0.885466    0.418605   \n",
       "1                         + test_size      0.883947     0.880164    0.383721   \n",
       "2                                + X1      0.880819     0.885466    0.418605   \n",
       "3                                + X2      0.880876     0.885466    0.418605   \n",
       "4                    + standalization      0.881271     0.885861    0.454545   \n",
       "5                             + SMOTE      0.647070     0.658267    0.668929   \n",
       "6                 + RandomOverSampler      0.648732     0.650067    0.659595   \n",
       "7                + RandomUnderSampler      0.649457     0.631964    0.622047   \n",
       "8                              + RENN      0.847541     0.841781    0.538462   \n",
       "9                      + NearMiss[v2]      0.957539     0.965110    0.995104   \n",
       "10                         + SMOTEENN      0.930587     0.923669    0.876321   \n",
       "11                       + SMOTETomek      0.650262     0.651879    0.659270   \n",
       "12          + NearMiss[v2] + balanced      0.957539     0.965110    0.995104   \n",
       "13  + NearMiss[v2] + balanced + L1reg      0.957539     0.965110    0.995104   \n",
       "\n",
       "     recalls  f1-scores       AUC  \n",
       "0   0.020857   0.039735  0.714068  \n",
       "1   0.022044   0.041693  0.714068  \n",
       "2   0.020857   0.039735  0.714068  \n",
       "3   0.020857   0.039735  0.714068  \n",
       "4   0.023175   0.044101  0.714068  \n",
       "5   0.630335   0.649058  0.714068  \n",
       "6   0.624089   0.641351  0.714068  \n",
       "7   0.634902   0.628409  0.714068  \n",
       "8   0.114880   0.189360  0.714068  \n",
       "9   0.933410   0.963270  0.714068  \n",
       "10  0.722125   0.791786  0.714068  \n",
       "11  0.625878   0.642140  0.714068  \n",
       "12  0.933410   0.963270  0.714068  \n",
       "13  0.933410   0.963270  0.714068  "
      ]
     },
     "execution_count": 83,
     "metadata": {},
     "output_type": "execute_result"
    }
   ],
   "source": [
    "data"
   ]
  },
  {
   "cell_type": "code",
   "execution_count": 84,
   "metadata": {},
   "outputs": [
    {
     "data": {
      "image/png": "[encoded data removed]",
      "text/plain": [
       "<Figure size 1296x720 with 6 Axes>"
      ]
     },
     "metadata": {
      "needs_background": "light"
     },
     "output_type": "display_data"
    }
   ],
   "source": [
    "plt.figure(figsize=(18,10))\n",
    "colors = ['r', 'g', 'b', 'c', 'm', 'k']\n",
    "labels = data.columns.values\n",
    "\n",
    "for i in range(0, 6):\n",
    "    plt.subplot(2,3,i+1)\n",
    "    plt.plot(data[labels[0]], data[labels[i+1]], colors[i])\n",
    "    plt.ylim(0,1) \n",
    "    plt.tick_params(labelsize=14)\n",
    "    plt.ylabel(labels[i+1], size=16)\n",
    "    if i<3:\n",
    "        plt.xticks([])\n",
    "    else:\n",
    "        plt.xticks(rotation=90)\n",
    "        plt.xlabel('优化方案', size=16)"
   ]
  },
  {
   "cell_type": "markdown",
   "metadata": {},
   "source": [
    "- pick NearMiss(v2)算法方案"
   ]
  },
  {
   "cell_type": "code",
   "execution_count": 85,
   "metadata": {},
   "outputs": [
    {
     "name": "stdout",
     "output_type": "stream",
     "text": [
      "参数 age_range_>65 : 1.464  概率比值 4.325\n",
      "参数 coupon_used_in_last_month : 0.314  概率比值 1.369\n",
      "参数 job_retired : -0.061  概率比值 0.941\n",
      "参数 job_student : 0.269  概率比值 1.309\n",
      "参数 marital_single : 0.042  概率比值 1.043\n",
      "参数 marital_married : -0.308  概率比值 0.735\n",
      "参数 loan_yes : -0.340  概率比值 0.712\n",
      "参数 job_blue-collar : -0.132  概率比值 0.877\n",
      "参数 coupon_used_in_last6_month : -1.242  概率比值 0.289\n",
      "参数 returned_yes : -0.547  概率比值 0.578\n",
      "参数 intercept : 5.802  概率比值 330.947\n"
     ]
    }
   ],
   "source": [
    "# 优化后模型参数解读\n",
    "\n",
    "\n",
    "# 定义自变量，提取相关性系数大于±0.05的变量\n",
    "threshold = 0.05\n",
    "tmp = pdd_clean.corr()[['flag']].sort_values('flag', ascending=False)\n",
    "var = tmp.where(np.abs(tmp)>threshold).dropna(how='any').index.values\n",
    "var = var[1:]\n",
    "X = pdd_clean[var]\n",
    "y = pdd_clean['flag']\n",
    "\n",
    "# NearMiss算法\n",
    "from imblearn.under_sampling import NearMiss\n",
    "nm1 = NearMiss(version=2) #选取正例样本中与N个最远邻负样本平均距离最短的样本\n",
    "X_nm1, y_nm1 = nm1.fit_sample(X, y)\n",
    "\n",
    "# 分割数据集\n",
    "X_train, X_test, y_train, y_test = train_test_split(X_nm1, y_nm1, test_size = 0.3, random_state = 100)\n",
    "\n",
    "# 训练模型\n",
    "LR = LogisticRegression()\n",
    "LR.fit(X_train, y_train)\n",
    "\n",
    "# 模型参数\n",
    "for a, b in zip(np.append(var, 'intercept'), np.append(LR.coef_, LR.intercept_)):\n",
    "    print(\"参数 %s : %.3f  概率比值 %.3f\" % (a, b, np.exp(b)))\n",
    "\n"
   ]
  },
  {
   "cell_type": "code",
   "execution_count": null,
   "metadata": {},
   "outputs": [],
   "source": []
  }
 ],
 "metadata": {
  "kernelspec": {
   "display_name": "Python 3",
   "language": "python",
   "name": "python3"
  },
  "language_info": {
   "codemirror_mode": {
    "name": "ipython",
    "version": 3
   },
   "file_extension": ".py",
   "mimetype": "text/x-python",
   "name": "python",
   "nbconvert_exporter": "python",
   "pygments_lexer": "ipython3",
   "version": "3.7.2"
  }
 },
 "nbformat": 4,
 "nbformat_minor": 2
}
